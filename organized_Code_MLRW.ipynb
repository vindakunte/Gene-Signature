{
  "cells": [
    {
      "cell_type": "code",
      "execution_count": 3,
      "metadata": {
        "colab": {
          "base_uri": "https://localhost:8080/",
          "height": 122
        },
        "id": "G7eKaAV7xP9p",
        "outputId": "99529a63-34d3-4212-80ec-41f35265ef18"
      },
      "outputs": [
        {
          "output_type": "execute_result",
          "data": {
            "text/plain": [
              "'\\n\\n1. The columns chosen are [\"characteristics_ch1\",\"molecule_ch1\",\"organism_ch1\",\\'type\\',\"title\"] after eliminating the less useful feautures.\\n\\n2. We use semi supervised learning here to increase the training data. Initially the labelled data available wasn\\'t much so we trained\\na model on that and then calculated labels for the unlabelled data.\\n\\n3. So Now data size has been increased to 15,000 samples. We then trained the classification model on this extended data.\\n\\n4. The choice of model did not make much change to the accuracy as the main issue was the lack of data.\\n\\n\\n\\n'"
            ],
            "application/vnd.google.colaboratory.intrinsic+json": {
              "type": "string"
            }
          },
          "metadata": {},
          "execution_count": 3
        }
      ],
      "source": [
        "'''\n",
        "\n",
        "1. The columns chosen are [\"characteristics_ch1\",\"molecule_ch1\",\"organism_ch1\",'type',\"title\"] after eliminating the less useful feautures.\n",
        "\n",
        "2. We use semi supervised learning here to increase the training data. Initially the labelled data available wasn't much so we trained\n",
        "a model on that and then calculated labels for the unlabelled data.\n",
        "\n",
        "3. So Now data size has been increased to 15,000 samples. We then trained the classification model on this extended data.\n",
        "\n",
        "4. The choice of model did not make much change to the accuracy as the main issue was the lack of data.\n",
        "\n",
        "\n",
        "\n",
        "'''"
      ]
    },
    {
      "cell_type": "markdown",
      "metadata": {
        "id": "VkSJk7apxP9v"
      },
      "source": [
        "## Importing required libraries"
      ]
    },
    {
      "cell_type": "code",
      "execution_count": 12,
      "metadata": {
        "execution": {
          "iopub.execute_input": "2022-03-02T08:39:27.778065Z",
          "iopub.status.busy": "2022-03-02T08:39:27.777176Z",
          "iopub.status.idle": "2022-03-02T08:39:27.788691Z",
          "shell.execute_reply": "2022-03-02T08:39:27.787776Z",
          "shell.execute_reply.started": "2022-03-02T08:39:27.778017Z"
        },
        "trusted": true,
        "colab": {
          "base_uri": "https://localhost:8080/"
        },
        "id": "V8YtVPoVxP9x",
        "outputId": "c02ca8c2-11c9-4d06-fd52-e7972d2216f4"
      },
      "outputs": [
        {
          "output_type": "stream",
          "name": "stderr",
          "text": [
            "[nltk_data] Downloading package omw-1.4 to /root/nltk_data...\n",
            "[nltk_data]   Unzipping corpora/omw-1.4.zip.\n",
            "[nltk_data] Downloading package stopwords to /root/nltk_data...\n",
            "[nltk_data]   Package stopwords is already up-to-date!\n",
            "[nltk_data] Downloading package wordnet to /root/nltk_data...\n",
            "[nltk_data]   Package wordnet is already up-to-date!\n",
            "[nltk_data] Downloading package punkt to /root/nltk_data...\n",
            "[nltk_data]   Package punkt is already up-to-date!\n"
          ]
        }
      ],
      "source": [
        "# Used in all sections for managing data and files\n",
        "import os\n",
        "import numpy as np\n",
        "from tqdm import tqdm\n",
        "import pandas as pd\n",
        "import pickle\n",
        "import re\n",
        "\n",
        "# NTLK is used for preprocessing text. You can find out more about each module using their documentation.\n",
        "import nltk\n",
        "nltk.download('omw-1.4')\n",
        "nltk.download('stopwords')\n",
        "nltk.download('wordnet')\n",
        "nltk.download('punkt')\n",
        "from nltk.corpus import wordnet as wn\n",
        "from nltk.stem.wordnet import WordNetLemmatizer\n",
        "from nltk import word_tokenize, pos_tag\n",
        "from nltk.corpus import inaugural, stopwords\n",
        "from wordcloud import WordCloud, STOPWORDS\n",
        "\n",
        "# Scikit-Learn is used for feature extraction and training a logistic regression model\n",
        "from sklearn.feature_extraction.text import TfidfVectorizer,CountVectorizer\n",
        "from sklearn.linear_model import LogisticRegression\n",
        "from sklearn.metrics import classification_report\n"
      ]
    },
    {
      "cell_type": "code",
      "execution_count": 5,
      "metadata": {
        "execution": {
          "iopub.execute_input": "2022-03-02T08:39:27.790296Z",
          "iopub.status.busy": "2022-03-02T08:39:27.789852Z",
          "iopub.status.idle": "2022-03-02T08:39:27.826244Z",
          "shell.execute_reply": "2022-03-02T08:39:27.825370Z",
          "shell.execute_reply.started": "2022-03-02T08:39:27.790264Z"
        },
        "trusted": true,
        "id": "-cDMF_cPxP9y"
      },
      "outputs": [],
      "source": [
        "labelled_training_data_path = '/content/labelled_train_data.csv'\n",
        "train_df = pd.read_csv(labelled_training_data_path)"
      ]
    },
    {
      "cell_type": "markdown",
      "metadata": {
        "id": "AFUnyW7lxP9z"
      },
      "source": [
        "## Exploring the data"
      ]
    },
    {
      "cell_type": "code",
      "execution_count": 6,
      "metadata": {
        "execution": {
          "iopub.execute_input": "2022-03-02T08:39:27.828423Z",
          "iopub.status.busy": "2022-03-02T08:39:27.828197Z",
          "iopub.status.idle": "2022-03-02T08:39:27.866522Z",
          "shell.execute_reply": "2022-03-02T08:39:27.865711Z",
          "shell.execute_reply.started": "2022-03-02T08:39:27.828396Z"
        },
        "trusted": true,
        "colab": {
          "base_uri": "https://localhost:8080/",
          "height": 661
        },
        "id": "FQDGNyyixP9z",
        "outputId": "cb69c8f2-3b7a-4254-87dd-013ee5bc408a"
      },
      "outputs": [
        {
          "output_type": "execute_result",
          "data": {
            "text/plain": [
              "     Unnamed: 0 geo_accession    gse_id  ctrl  pert  channel_count  \\\n",
              "0             0    GSM1617977  GSE66250   0.0   1.0              1   \n",
              "1             1    GSM1617983  GSE66250   0.0   1.0              1   \n",
              "2             2    GSM1617982  GSE66250   1.0   0.0              1   \n",
              "3             3    GSM1617975  GSE66250   0.0   1.0              1   \n",
              "4             0    GSM1267968  GSE52505   0.0   1.0              1   \n",
              "..          ...           ...       ...   ...   ...            ...   \n",
              "618           0    GSM1462977  GSE59980   0.0   1.0              1   \n",
              "619           1    GSM1462972  GSE59980   1.0   0.0              1   \n",
              "620           2    GSM1462974  GSE59980   1.0   0.0              1   \n",
              "621           3    GSM1462976  GSE59980   0.0   1.0              1   \n",
              "622           4    GSM1462973  GSE59980   1.0   0.0              1   \n",
              "\n",
              "                characteristics_ch1            contact_address contact_city  \\\n",
              "0    facs sorting: CD44low/CD24high                 Am Hubland    Wuerzburg   \n",
              "1            facs sorting: Unsorted                 Am Hubland    Wuerzburg   \n",
              "2    facs sorting: CD44low/CD24high                 Am Hubland    Wuerzburg   \n",
              "3    facs sorting: CD44high/CD24low                 Am Hubland    Wuerzburg   \n",
              "4         tissue: human nasal polyp  148, Gurodong-ro, Guro-gu        Seoul   \n",
              "..                              ...                        ...          ...   \n",
              "618                 cell line: MCF7  1450 Biggy Street NRT6514  Los Angeles   \n",
              "619                 cell line: MCF7  1450 Biggy Street NRT6514  Los Angeles   \n",
              "620                 cell line: MCF7  1450 Biggy Street NRT6514  Los Angeles   \n",
              "621                 cell line: MCF7  1450 Biggy Street NRT6514  Los Angeles   \n",
              "622                 cell line: MCF7  1450 Biggy Street NRT6514  Los Angeles   \n",
              "\n",
              "    contact_country  ... extract_protocol_ch2 label_ch2 label_protocol_ch2  \\\n",
              "0           Germany  ...                  NaN       NaN                NaN   \n",
              "1           Germany  ...                  NaN       NaN                NaN   \n",
              "2           Germany  ...                  NaN       NaN                NaN   \n",
              "3           Germany  ...                  NaN       NaN                NaN   \n",
              "4       South Korea  ...                  NaN       NaN                NaN   \n",
              "..              ...  ...                  ...       ...                ...   \n",
              "618             USA  ...                  NaN       NaN                NaN   \n",
              "619             USA  ...                  NaN       NaN                NaN   \n",
              "620             USA  ...                  NaN       NaN                NaN   \n",
              "621             USA  ...                  NaN       NaN                NaN   \n",
              "622             USA  ...                  NaN       NaN                NaN   \n",
              "\n",
              "    molecule_ch2 organism_ch2 source_name_ch2  taxid_ch2  \\\n",
              "0            NaN          NaN             NaN        NaN   \n",
              "1            NaN          NaN             NaN        NaN   \n",
              "2            NaN          NaN             NaN        NaN   \n",
              "3            NaN          NaN             NaN        NaN   \n",
              "4            NaN          NaN             NaN        NaN   \n",
              "..           ...          ...             ...        ...   \n",
              "618          NaN          NaN             NaN        NaN   \n",
              "619          NaN          NaN             NaN        NaN   \n",
              "620          NaN          NaN             NaN        NaN   \n",
              "621          NaN          NaN             NaN        NaN   \n",
              "622          NaN          NaN             NaN        NaN   \n",
              "\n",
              "    treatment_protocol_ch2 biomaterial_provider_ch2 growth_protocol_ch2  \n",
              "0                      NaN                      NaN                 NaN  \n",
              "1                      NaN                      NaN                 NaN  \n",
              "2                      NaN                      NaN                 NaN  \n",
              "3                      NaN                      NaN                 NaN  \n",
              "4                      NaN                      NaN                 NaN  \n",
              "..                     ...                      ...                 ...  \n",
              "618                    NaN                      NaN                 NaN  \n",
              "619                    NaN                      NaN                 NaN  \n",
              "620                    NaN                      NaN                 NaN  \n",
              "621                    NaN                      NaN                 NaN  \n",
              "622                    NaN                      NaN                 NaN  \n",
              "\n",
              "[623 rows x 53 columns]"
            ],
            "text/html": [
              "\n",
              "  <div id=\"df-d6368f8f-a9fc-42d4-a6b2-6b605109f117\">\n",
              "    <div class=\"colab-df-container\">\n",
              "      <div>\n",
              "<style scoped>\n",
              "    .dataframe tbody tr th:only-of-type {\n",
              "        vertical-align: middle;\n",
              "    }\n",
              "\n",
              "    .dataframe tbody tr th {\n",
              "        vertical-align: top;\n",
              "    }\n",
              "\n",
              "    .dataframe thead th {\n",
              "        text-align: right;\n",
              "    }\n",
              "</style>\n",
              "<table border=\"1\" class=\"dataframe\">\n",
              "  <thead>\n",
              "    <tr style=\"text-align: right;\">\n",
              "      <th></th>\n",
              "      <th>Unnamed: 0</th>\n",
              "      <th>geo_accession</th>\n",
              "      <th>gse_id</th>\n",
              "      <th>ctrl</th>\n",
              "      <th>pert</th>\n",
              "      <th>channel_count</th>\n",
              "      <th>characteristics_ch1</th>\n",
              "      <th>contact_address</th>\n",
              "      <th>contact_city</th>\n",
              "      <th>contact_country</th>\n",
              "      <th>...</th>\n",
              "      <th>extract_protocol_ch2</th>\n",
              "      <th>label_ch2</th>\n",
              "      <th>label_protocol_ch2</th>\n",
              "      <th>molecule_ch2</th>\n",
              "      <th>organism_ch2</th>\n",
              "      <th>source_name_ch2</th>\n",
              "      <th>taxid_ch2</th>\n",
              "      <th>treatment_protocol_ch2</th>\n",
              "      <th>biomaterial_provider_ch2</th>\n",
              "      <th>growth_protocol_ch2</th>\n",
              "    </tr>\n",
              "  </thead>\n",
              "  <tbody>\n",
              "    <tr>\n",
              "      <th>0</th>\n",
              "      <td>0</td>\n",
              "      <td>GSM1617977</td>\n",
              "      <td>GSE66250</td>\n",
              "      <td>0.0</td>\n",
              "      <td>1.0</td>\n",
              "      <td>1</td>\n",
              "      <td>facs sorting: CD44low/CD24high</td>\n",
              "      <td>Am Hubland</td>\n",
              "      <td>Wuerzburg</td>\n",
              "      <td>Germany</td>\n",
              "      <td>...</td>\n",
              "      <td>NaN</td>\n",
              "      <td>NaN</td>\n",
              "      <td>NaN</td>\n",
              "      <td>NaN</td>\n",
              "      <td>NaN</td>\n",
              "      <td>NaN</td>\n",
              "      <td>NaN</td>\n",
              "      <td>NaN</td>\n",
              "      <td>NaN</td>\n",
              "      <td>NaN</td>\n",
              "    </tr>\n",
              "    <tr>\n",
              "      <th>1</th>\n",
              "      <td>1</td>\n",
              "      <td>GSM1617983</td>\n",
              "      <td>GSE66250</td>\n",
              "      <td>0.0</td>\n",
              "      <td>1.0</td>\n",
              "      <td>1</td>\n",
              "      <td>facs sorting: Unsorted</td>\n",
              "      <td>Am Hubland</td>\n",
              "      <td>Wuerzburg</td>\n",
              "      <td>Germany</td>\n",
              "      <td>...</td>\n",
              "      <td>NaN</td>\n",
              "      <td>NaN</td>\n",
              "      <td>NaN</td>\n",
              "      <td>NaN</td>\n",
              "      <td>NaN</td>\n",
              "      <td>NaN</td>\n",
              "      <td>NaN</td>\n",
              "      <td>NaN</td>\n",
              "      <td>NaN</td>\n",
              "      <td>NaN</td>\n",
              "    </tr>\n",
              "    <tr>\n",
              "      <th>2</th>\n",
              "      <td>2</td>\n",
              "      <td>GSM1617982</td>\n",
              "      <td>GSE66250</td>\n",
              "      <td>1.0</td>\n",
              "      <td>0.0</td>\n",
              "      <td>1</td>\n",
              "      <td>facs sorting: CD44low/CD24high</td>\n",
              "      <td>Am Hubland</td>\n",
              "      <td>Wuerzburg</td>\n",
              "      <td>Germany</td>\n",
              "      <td>...</td>\n",
              "      <td>NaN</td>\n",
              "      <td>NaN</td>\n",
              "      <td>NaN</td>\n",
              "      <td>NaN</td>\n",
              "      <td>NaN</td>\n",
              "      <td>NaN</td>\n",
              "      <td>NaN</td>\n",
              "      <td>NaN</td>\n",
              "      <td>NaN</td>\n",
              "      <td>NaN</td>\n",
              "    </tr>\n",
              "    <tr>\n",
              "      <th>3</th>\n",
              "      <td>3</td>\n",
              "      <td>GSM1617975</td>\n",
              "      <td>GSE66250</td>\n",
              "      <td>0.0</td>\n",
              "      <td>1.0</td>\n",
              "      <td>1</td>\n",
              "      <td>facs sorting: CD44high/CD24low</td>\n",
              "      <td>Am Hubland</td>\n",
              "      <td>Wuerzburg</td>\n",
              "      <td>Germany</td>\n",
              "      <td>...</td>\n",
              "      <td>NaN</td>\n",
              "      <td>NaN</td>\n",
              "      <td>NaN</td>\n",
              "      <td>NaN</td>\n",
              "      <td>NaN</td>\n",
              "      <td>NaN</td>\n",
              "      <td>NaN</td>\n",
              "      <td>NaN</td>\n",
              "      <td>NaN</td>\n",
              "      <td>NaN</td>\n",
              "    </tr>\n",
              "    <tr>\n",
              "      <th>4</th>\n",
              "      <td>0</td>\n",
              "      <td>GSM1267968</td>\n",
              "      <td>GSE52505</td>\n",
              "      <td>0.0</td>\n",
              "      <td>1.0</td>\n",
              "      <td>1</td>\n",
              "      <td>tissue: human nasal polyp</td>\n",
              "      <td>148, Gurodong-ro, Guro-gu</td>\n",
              "      <td>Seoul</td>\n",
              "      <td>South Korea</td>\n",
              "      <td>...</td>\n",
              "      <td>NaN</td>\n",
              "      <td>NaN</td>\n",
              "      <td>NaN</td>\n",
              "      <td>NaN</td>\n",
              "      <td>NaN</td>\n",
              "      <td>NaN</td>\n",
              "      <td>NaN</td>\n",
              "      <td>NaN</td>\n",
              "      <td>NaN</td>\n",
              "      <td>NaN</td>\n",
              "    </tr>\n",
              "    <tr>\n",
              "      <th>...</th>\n",
              "      <td>...</td>\n",
              "      <td>...</td>\n",
              "      <td>...</td>\n",
              "      <td>...</td>\n",
              "      <td>...</td>\n",
              "      <td>...</td>\n",
              "      <td>...</td>\n",
              "      <td>...</td>\n",
              "      <td>...</td>\n",
              "      <td>...</td>\n",
              "      <td>...</td>\n",
              "      <td>...</td>\n",
              "      <td>...</td>\n",
              "      <td>...</td>\n",
              "      <td>...</td>\n",
              "      <td>...</td>\n",
              "      <td>...</td>\n",
              "      <td>...</td>\n",
              "      <td>...</td>\n",
              "      <td>...</td>\n",
              "      <td>...</td>\n",
              "    </tr>\n",
              "    <tr>\n",
              "      <th>618</th>\n",
              "      <td>0</td>\n",
              "      <td>GSM1462977</td>\n",
              "      <td>GSE59980</td>\n",
              "      <td>0.0</td>\n",
              "      <td>1.0</td>\n",
              "      <td>1</td>\n",
              "      <td>cell line: MCF7</td>\n",
              "      <td>1450 Biggy Street NRT6514</td>\n",
              "      <td>Los Angeles</td>\n",
              "      <td>USA</td>\n",
              "      <td>...</td>\n",
              "      <td>NaN</td>\n",
              "      <td>NaN</td>\n",
              "      <td>NaN</td>\n",
              "      <td>NaN</td>\n",
              "      <td>NaN</td>\n",
              "      <td>NaN</td>\n",
              "      <td>NaN</td>\n",
              "      <td>NaN</td>\n",
              "      <td>NaN</td>\n",
              "      <td>NaN</td>\n",
              "    </tr>\n",
              "    <tr>\n",
              "      <th>619</th>\n",
              "      <td>1</td>\n",
              "      <td>GSM1462972</td>\n",
              "      <td>GSE59980</td>\n",
              "      <td>1.0</td>\n",
              "      <td>0.0</td>\n",
              "      <td>1</td>\n",
              "      <td>cell line: MCF7</td>\n",
              "      <td>1450 Biggy Street NRT6514</td>\n",
              "      <td>Los Angeles</td>\n",
              "      <td>USA</td>\n",
              "      <td>...</td>\n",
              "      <td>NaN</td>\n",
              "      <td>NaN</td>\n",
              "      <td>NaN</td>\n",
              "      <td>NaN</td>\n",
              "      <td>NaN</td>\n",
              "      <td>NaN</td>\n",
              "      <td>NaN</td>\n",
              "      <td>NaN</td>\n",
              "      <td>NaN</td>\n",
              "      <td>NaN</td>\n",
              "    </tr>\n",
              "    <tr>\n",
              "      <th>620</th>\n",
              "      <td>2</td>\n",
              "      <td>GSM1462974</td>\n",
              "      <td>GSE59980</td>\n",
              "      <td>1.0</td>\n",
              "      <td>0.0</td>\n",
              "      <td>1</td>\n",
              "      <td>cell line: MCF7</td>\n",
              "      <td>1450 Biggy Street NRT6514</td>\n",
              "      <td>Los Angeles</td>\n",
              "      <td>USA</td>\n",
              "      <td>...</td>\n",
              "      <td>NaN</td>\n",
              "      <td>NaN</td>\n",
              "      <td>NaN</td>\n",
              "      <td>NaN</td>\n",
              "      <td>NaN</td>\n",
              "      <td>NaN</td>\n",
              "      <td>NaN</td>\n",
              "      <td>NaN</td>\n",
              "      <td>NaN</td>\n",
              "      <td>NaN</td>\n",
              "    </tr>\n",
              "    <tr>\n",
              "      <th>621</th>\n",
              "      <td>3</td>\n",
              "      <td>GSM1462976</td>\n",
              "      <td>GSE59980</td>\n",
              "      <td>0.0</td>\n",
              "      <td>1.0</td>\n",
              "      <td>1</td>\n",
              "      <td>cell line: MCF7</td>\n",
              "      <td>1450 Biggy Street NRT6514</td>\n",
              "      <td>Los Angeles</td>\n",
              "      <td>USA</td>\n",
              "      <td>...</td>\n",
              "      <td>NaN</td>\n",
              "      <td>NaN</td>\n",
              "      <td>NaN</td>\n",
              "      <td>NaN</td>\n",
              "      <td>NaN</td>\n",
              "      <td>NaN</td>\n",
              "      <td>NaN</td>\n",
              "      <td>NaN</td>\n",
              "      <td>NaN</td>\n",
              "      <td>NaN</td>\n",
              "    </tr>\n",
              "    <tr>\n",
              "      <th>622</th>\n",
              "      <td>4</td>\n",
              "      <td>GSM1462973</td>\n",
              "      <td>GSE59980</td>\n",
              "      <td>1.0</td>\n",
              "      <td>0.0</td>\n",
              "      <td>1</td>\n",
              "      <td>cell line: MCF7</td>\n",
              "      <td>1450 Biggy Street NRT6514</td>\n",
              "      <td>Los Angeles</td>\n",
              "      <td>USA</td>\n",
              "      <td>...</td>\n",
              "      <td>NaN</td>\n",
              "      <td>NaN</td>\n",
              "      <td>NaN</td>\n",
              "      <td>NaN</td>\n",
              "      <td>NaN</td>\n",
              "      <td>NaN</td>\n",
              "      <td>NaN</td>\n",
              "      <td>NaN</td>\n",
              "      <td>NaN</td>\n",
              "      <td>NaN</td>\n",
              "    </tr>\n",
              "  </tbody>\n",
              "</table>\n",
              "<p>623 rows × 53 columns</p>\n",
              "</div>\n",
              "      <button class=\"colab-df-convert\" onclick=\"convertToInteractive('df-d6368f8f-a9fc-42d4-a6b2-6b605109f117')\"\n",
              "              title=\"Convert this dataframe to an interactive table.\"\n",
              "              style=\"display:none;\">\n",
              "        \n",
              "  <svg xmlns=\"http://www.w3.org/2000/svg\" height=\"24px\"viewBox=\"0 0 24 24\"\n",
              "       width=\"24px\">\n",
              "    <path d=\"M0 0h24v24H0V0z\" fill=\"none\"/>\n",
              "    <path d=\"M18.56 5.44l.94 2.06.94-2.06 2.06-.94-2.06-.94-.94-2.06-.94 2.06-2.06.94zm-11 1L8.5 8.5l.94-2.06 2.06-.94-2.06-.94L8.5 2.5l-.94 2.06-2.06.94zm10 10l.94 2.06.94-2.06 2.06-.94-2.06-.94-.94-2.06-.94 2.06-2.06.94z\"/><path d=\"M17.41 7.96l-1.37-1.37c-.4-.4-.92-.59-1.43-.59-.52 0-1.04.2-1.43.59L10.3 9.45l-7.72 7.72c-.78.78-.78 2.05 0 2.83L4 21.41c.39.39.9.59 1.41.59.51 0 1.02-.2 1.41-.59l7.78-7.78 2.81-2.81c.8-.78.8-2.07 0-2.86zM5.41 20L4 18.59l7.72-7.72 1.47 1.35L5.41 20z\"/>\n",
              "  </svg>\n",
              "      </button>\n",
              "      \n",
              "  <style>\n",
              "    .colab-df-container {\n",
              "      display:flex;\n",
              "      flex-wrap:wrap;\n",
              "      gap: 12px;\n",
              "    }\n",
              "\n",
              "    .colab-df-convert {\n",
              "      background-color: #E8F0FE;\n",
              "      border: none;\n",
              "      border-radius: 50%;\n",
              "      cursor: pointer;\n",
              "      display: none;\n",
              "      fill: #1967D2;\n",
              "      height: 32px;\n",
              "      padding: 0 0 0 0;\n",
              "      width: 32px;\n",
              "    }\n",
              "\n",
              "    .colab-df-convert:hover {\n",
              "      background-color: #E2EBFA;\n",
              "      box-shadow: 0px 1px 2px rgba(60, 64, 67, 0.3), 0px 1px 3px 1px rgba(60, 64, 67, 0.15);\n",
              "      fill: #174EA6;\n",
              "    }\n",
              "\n",
              "    [theme=dark] .colab-df-convert {\n",
              "      background-color: #3B4455;\n",
              "      fill: #D2E3FC;\n",
              "    }\n",
              "\n",
              "    [theme=dark] .colab-df-convert:hover {\n",
              "      background-color: #434B5C;\n",
              "      box-shadow: 0px 1px 3px 1px rgba(0, 0, 0, 0.15);\n",
              "      filter: drop-shadow(0px 1px 2px rgba(0, 0, 0, 0.3));\n",
              "      fill: #FFFFFF;\n",
              "    }\n",
              "  </style>\n",
              "\n",
              "      <script>\n",
              "        const buttonEl =\n",
              "          document.querySelector('#df-d6368f8f-a9fc-42d4-a6b2-6b605109f117 button.colab-df-convert');\n",
              "        buttonEl.style.display =\n",
              "          google.colab.kernel.accessAllowed ? 'block' : 'none';\n",
              "\n",
              "        async function convertToInteractive(key) {\n",
              "          const element = document.querySelector('#df-d6368f8f-a9fc-42d4-a6b2-6b605109f117');\n",
              "          const dataTable =\n",
              "            await google.colab.kernel.invokeFunction('convertToInteractive',\n",
              "                                                     [key], {});\n",
              "          if (!dataTable) return;\n",
              "\n",
              "          const docLinkHtml = 'Like what you see? Visit the ' +\n",
              "            '<a target=\"_blank\" href=https://colab.research.google.com/notebooks/data_table.ipynb>data table notebook</a>'\n",
              "            + ' to learn more about interactive tables.';\n",
              "          element.innerHTML = '';\n",
              "          dataTable['output_type'] = 'display_data';\n",
              "          await google.colab.output.renderOutput(dataTable, element);\n",
              "          const docLink = document.createElement('div');\n",
              "          docLink.innerHTML = docLinkHtml;\n",
              "          element.appendChild(docLink);\n",
              "        }\n",
              "      </script>\n",
              "    </div>\n",
              "  </div>\n",
              "  "
            ]
          },
          "metadata": {},
          "execution_count": 6
        }
      ],
      "source": [
        "train_df"
      ]
    },
    {
      "cell_type": "code",
      "execution_count": 7,
      "metadata": {
        "execution": {
          "iopub.execute_input": "2022-03-02T08:39:27.868003Z",
          "iopub.status.busy": "2022-03-02T08:39:27.867663Z",
          "iopub.status.idle": "2022-03-02T08:39:27.892810Z",
          "shell.execute_reply": "2022-03-02T08:39:27.892078Z",
          "shell.execute_reply.started": "2022-03-02T08:39:27.867955Z"
        },
        "trusted": true,
        "colab": {
          "base_uri": "https://localhost:8080/"
        },
        "id": "gmXgkT_vxP90",
        "outputId": "02f35bfe-72fc-4af8-db7d-8886aeb9a2f4"
      },
      "outputs": [
        {
          "output_type": "stream",
          "name": "stdout",
          "text": [
            "<class 'pandas.core.frame.DataFrame'>\n",
            "RangeIndex: 623 entries, 0 to 622\n",
            "Data columns (total 53 columns):\n",
            " #   Column                    Non-Null Count  Dtype  \n",
            "---  ------                    --------------  -----  \n",
            " 0   Unnamed: 0                623 non-null    int64  \n",
            " 1   geo_accession             623 non-null    object \n",
            " 2   gse_id                    623 non-null    object \n",
            " 3   ctrl                      623 non-null    float64\n",
            " 4   pert                      623 non-null    float64\n",
            " 5   channel_count             623 non-null    int64  \n",
            " 6   characteristics_ch1       623 non-null    object \n",
            " 7   contact_address           623 non-null    object \n",
            " 8   contact_city              623 non-null    object \n",
            " 9   contact_country           623 non-null    object \n",
            " 10  contact_department        503 non-null    object \n",
            " 11  contact_email             394 non-null    object \n",
            " 12  contact_institute         623 non-null    object \n",
            " 13  contact_name              623 non-null    object \n",
            " 14  contact_state             449 non-null    object \n",
            " 15  data_processing           623 non-null    object \n",
            " 16  data_row_count            623 non-null    int64  \n",
            " 17  description               476 non-null    object \n",
            " 18  extract_protocol_ch1      623 non-null    object \n",
            " 19  growth_protocol_ch1       282 non-null    object \n",
            " 20  hyb_protocol              513 non-null    object \n",
            " 21  label_ch1                 513 non-null    object \n",
            " 22  label_protocol_ch1        513 non-null    object \n",
            " 23  last_update_date          623 non-null    object \n",
            " 24  molecule_ch1              623 non-null    object \n",
            " 25  organism_ch1              623 non-null    object \n",
            " 26  platform_id               623 non-null    object \n",
            " 27  scan_protocol             513 non-null    object \n",
            " 28  source_name_ch1           623 non-null    object \n",
            " 29  status                    623 non-null    object \n",
            " 30  submission_date           623 non-null    object \n",
            " 31  supplementary_file        513 non-null    object \n",
            " 32  taxid_ch1                 623 non-null    int64  \n",
            " 33  title                     623 non-null    object \n",
            " 34  treatment_protocol_ch1    298 non-null    object \n",
            " 35  type                      623 non-null    object \n",
            " 36  contact_phone             160 non-null    object \n",
            " 37  contact_laboratory        344 non-null    object \n",
            " 38  relation                  137 non-null    object \n",
            " 39  contact_fax               15 non-null     object \n",
            " 40  biomaterial_provider_ch1  14 non-null     object \n",
            " 41  contact_web_link          9 non-null      object \n",
            " 42  characteristics_ch2       26 non-null     object \n",
            " 43  extract_protocol_ch2      26 non-null     object \n",
            " 44  label_ch2                 26 non-null     object \n",
            " 45  label_protocol_ch2        26 non-null     object \n",
            " 46  molecule_ch2              26 non-null     object \n",
            " 47  organism_ch2              26 non-null     object \n",
            " 48  source_name_ch2           26 non-null     object \n",
            " 49  taxid_ch2                 26 non-null     float64\n",
            " 50  treatment_protocol_ch2    15 non-null     object \n",
            " 51  biomaterial_provider_ch2  4 non-null      object \n",
            " 52  growth_protocol_ch2       9 non-null      object \n",
            "dtypes: float64(3), int64(4), object(46)\n",
            "memory usage: 258.1+ KB\n"
          ]
        }
      ],
      "source": [
        "train_df.info()"
      ]
    },
    {
      "cell_type": "markdown",
      "metadata": {
        "id": "TD_QIGbAxP90"
      },
      "source": [
        "## Feature seletction\n",
        "#### Finding the appropriate,useful features to achieve the best possible performance of ML algorithm"
      ]
    },
    {
      "cell_type": "code",
      "execution_count": 8,
      "metadata": {
        "execution": {
          "iopub.execute_input": "2022-03-02T08:39:27.894448Z",
          "iopub.status.busy": "2022-03-02T08:39:27.893921Z",
          "iopub.status.idle": "2022-03-02T08:39:27.931329Z",
          "shell.execute_reply": "2022-03-02T08:39:27.930448Z",
          "shell.execute_reply.started": "2022-03-02T08:39:27.894400Z"
        },
        "trusted": true,
        "id": "SVM2H2PExP91"
      },
      "outputs": [],
      "source": [
        "'''\n",
        "After alot of experimentation, analysis, study following 5 features gave me the best accuracy-\n",
        "\n",
        "[\"characteristics_ch1\",\"molecule_ch1\",\"organism_ch1\",'type',\"title\"]\n",
        "'''\n",
        "\n",
        "\n",
        "cols=[\"characteristics_ch1\",\"molecule_ch1\",\"organism_ch1\",'type',\"title\"] \n",
        "\n",
        "train_df.loc[:, 'feature'] = \"\"\n",
        "# We are concatenating all the columns with a space.\n",
        "train_df['feature'] = train_df.apply(lambda row: ' '.join([str(row[i]) for i in cols]), axis=1)\n",
        "stop_words = set(stopwords.words('english'))\n"
      ]
    },
    {
      "cell_type": "code",
      "execution_count": 9,
      "metadata": {
        "execution": {
          "iopub.execute_input": "2022-03-02T08:39:27.933090Z",
          "iopub.status.busy": "2022-03-02T08:39:27.932442Z",
          "iopub.status.idle": "2022-03-02T08:39:27.940895Z",
          "shell.execute_reply": "2022-03-02T08:39:27.940152Z",
          "shell.execute_reply.started": "2022-03-02T08:39:27.933050Z"
        },
        "trusted": true,
        "colab": {
          "base_uri": "https://localhost:8080/"
        },
        "id": "f8ZLSvZIxP91",
        "outputId": "ad5f8972-29fc-4cc0-8cf8-95d2a1a55060"
      },
      "outputs": [
        {
          "output_type": "execute_result",
          "data": {
            "text/plain": [
              "1    597\n",
              "2     26\n",
              "Name: channel_count, dtype: int64"
            ]
          },
          "metadata": {},
          "execution_count": 9
        }
      ],
      "source": [
        "train_df[\"channel_count\"].value_counts()"
      ]
    },
    {
      "cell_type": "code",
      "execution_count": 10,
      "metadata": {
        "execution": {
          "iopub.execute_input": "2022-03-02T08:39:27.942852Z",
          "iopub.status.busy": "2022-03-02T08:39:27.942389Z",
          "iopub.status.idle": "2022-03-02T08:39:27.954793Z",
          "shell.execute_reply": "2022-03-02T08:39:27.953790Z",
          "shell.execute_reply.started": "2022-03-02T08:39:27.942801Z"
        },
        "trusted": true,
        "colab": {
          "base_uri": "https://localhost:8080/"
        },
        "id": "wkINQGi7xP92",
        "outputId": "65f9c0a2-0fc2-4f07-ffb6-264c40d592bd"
      },
      "outputs": [
        {
          "output_type": "execute_result",
          "data": {
            "text/plain": [
              "0      facs sorting: CD44low/CD24high polyA RNA Homo ...\n",
              "1      facs sorting: Unsorted polyA RNA Homo sapiens ...\n",
              "2      facs sorting: CD44low/CD24high polyA RNA Homo ...\n",
              "3      facs sorting: CD44high/CD24low polyA RNA Homo ...\n",
              "4      tissue: human nasal polyp total RNA Homo sapie...\n",
              "                             ...                        \n",
              "618    cell line: MCF7 total RNA Homo sapiens SRA RNA...\n",
              "619    cell line: MCF7 total RNA Homo sapiens SRA RNA...\n",
              "620    cell line: MCF7 total RNA Homo sapiens SRA RNA...\n",
              "621    cell line: MCF7 total RNA Homo sapiens SRA RNA...\n",
              "622    cell line: MCF7 total RNA Homo sapiens SRA RNA...\n",
              "Name: feature, Length: 623, dtype: object"
            ]
          },
          "metadata": {},
          "execution_count": 10
        }
      ],
      "source": [
        "train_df[\"feature\"]"
      ]
    },
    {
      "cell_type": "code",
      "execution_count": 13,
      "metadata": {
        "execution": {
          "iopub.execute_input": "2022-03-02T08:39:27.958284Z",
          "iopub.status.busy": "2022-03-02T08:39:27.957719Z",
          "iopub.status.idle": "2022-03-02T08:39:28.246878Z",
          "shell.execute_reply": "2022-03-02T08:39:28.245764Z",
          "shell.execute_reply.started": "2022-03-02T08:39:27.958236Z"
        },
        "trusted": true,
        "colab": {
          "base_uri": "https://localhost:8080/"
        },
        "id": "y_ojCohQxP92",
        "outputId": "c734d41a-6406-4f5a-f994-bdc43e95efd6"
      },
      "outputs": [
        {
          "output_type": "stream",
          "name": "stderr",
          "text": [
            "100%|██████████| 623/623 [00:01<00:00, 328.13it/s]\n"
          ]
        }
      ],
      "source": [
        "def preprocess(data_df):\n",
        "    data_df['cleaned_feature'] = ''\n",
        "    stop_words = set(stopwords.words('english'))\n",
        "    wordnet_lemm = WordNetLemmatizer()\n",
        "    for index, row in tqdm(data_df.iterrows(), total=data_df.shape[0]):\n",
        "        sample = row['feature']\n",
        "        \n",
        "        pre_txt = re.sub(r\"[^a-zA-Z0-9- ]\", \" \", sample)\n",
        "        pre_txt = pre_txt.lower()\n",
        "        sample_words = [wordnet_lemm.lemmatize(w) for w in pre_txt.split() if w not in stop_words and len(w)>1]\n",
        "        pre_proc_ver = ' '.join(sample_words)\n",
        "        data_df.loc[index, 'cleaned_feature'] = pre_proc_ver\n",
        "    return data_df\n",
        "        \n",
        "# Cleaned Training set\n",
        "cleaned_train_df = preprocess(train_df.copy())\n"
      ]
    },
    {
      "cell_type": "code",
      "execution_count": 14,
      "metadata": {
        "execution": {
          "iopub.execute_input": "2022-03-02T08:39:28.249167Z",
          "iopub.status.busy": "2022-03-02T08:39:28.248792Z",
          "iopub.status.idle": "2022-03-02T08:39:28.255448Z",
          "shell.execute_reply": "2022-03-02T08:39:28.254587Z",
          "shell.execute_reply.started": "2022-03-02T08:39:28.249120Z"
        },
        "trusted": true,
        "colab": {
          "base_uri": "https://localhost:8080/",
          "height": 35
        },
        "id": "-Df4LLNdxP93",
        "outputId": "0c5b59ca-4ef7-446e-a360-0c984f4e8cfb"
      },
      "outputs": [
        {
          "output_type": "execute_result",
          "data": {
            "text/plain": [
              "'facs sorting cd44low cd24high polya rna homo sapiens sra rep1 cd44low dox'"
            ],
            "application/vnd.google.colaboratory.intrinsic+json": {
              "type": "string"
            }
          },
          "metadata": {},
          "execution_count": 14
        }
      ],
      "source": [
        "cleaned_train_df[\"cleaned_feature\"][0]"
      ]
    },
    {
      "cell_type": "markdown",
      "metadata": {
        "id": "j8E8sZPWxP93"
      },
      "source": [
        "## Feature extraction and encoding "
      ]
    },
    {
      "cell_type": "code",
      "execution_count": null,
      "metadata": {
        "execution": {
          "iopub.execute_input": "2022-03-02T08:39:28.257080Z",
          "iopub.status.busy": "2022-03-02T08:39:28.256806Z",
          "iopub.status.idle": "2022-03-02T08:39:28.270916Z",
          "shell.execute_reply": "2022-03-02T08:39:28.270000Z",
          "shell.execute_reply.started": "2022-03-02T08:39:28.257044Z"
        },
        "trusted": true,
        "id": "VH_SJqgixP93",
        "outputId": "a93c7e06-a35c-431a-9abb-81121961303c"
      },
      "outputs": [
        {
          "data": {
            "text/plain": [
              "'\\nI had extensive experimentation between TFIDF and bag-of-words.  \\nBag of words (countvectorizer) approach gave me the best score. May be because our input features had \\nlarge vocabulary of different/unique words that was resulting into correct predictions as TFIDF works on the\\nprinciple of frequency of words, because of the uniqueness of words the frequency was going to be 1 for most of the cases.\\n'"
            ]
          },
          "execution_count": 178,
          "metadata": {},
          "output_type": "execute_result"
        }
      ],
      "source": [
        "'''\n",
        "Bag of words (countvectorizer) approach gave me the best score. May be because our input features had \n",
        "large vocabulary of different/unique words that was resulting into correct predictions as TFIDF works on the\n",
        "principle of frequency of words, because of the uniqueness of words the frequency was going to be 1 for most of the cases.\n",
        "'''\n",
        "\n",
        "\n"
      ]
    },
    {
      "cell_type": "markdown",
      "metadata": {
        "id": "pbVbx0rFxP94"
      },
      "source": [
        "#### a) Extracting features from unlabelled data"
      ]
    },
    {
      "cell_type": "code",
      "execution_count": 15,
      "metadata": {
        "execution": {
          "iopub.execute_input": "2022-03-02T08:39:28.272553Z",
          "iopub.status.busy": "2022-03-02T08:39:28.272306Z",
          "iopub.status.idle": "2022-03-02T08:39:28.281758Z",
          "shell.execute_reply": "2022-03-02T08:39:28.281061Z",
          "shell.execute_reply.started": "2022-03-02T08:39:28.272520Z"
        },
        "trusted": true,
        "id": "dtjgTBf9xP94"
      },
      "outputs": [],
      "source": [
        "vect = CountVectorizer(analyzer=\"word\", preprocessor=None, stop_words=stop_words, max_features=15000)"
      ]
    },
    {
      "cell_type": "code",
      "execution_count": 23,
      "metadata": {
        "execution": {
          "iopub.execute_input": "2022-03-02T08:39:28.284575Z",
          "iopub.status.busy": "2022-03-02T08:39:28.284189Z",
          "iopub.status.idle": "2022-03-02T08:39:42.291877Z",
          "shell.execute_reply": "2022-03-02T08:39:42.290900Z",
          "shell.execute_reply.started": "2022-03-02T08:39:28.284525Z"
        },
        "trusted": true,
        "colab": {
          "base_uri": "https://localhost:8080/"
        },
        "id": "AaS_XyObxP94",
        "outputId": "f44f0da2-e6e1-4a2c-c000-f9a135c1396f"
      },
      "outputs": [
        {
          "output_type": "stream",
          "name": "stderr",
          "text": [
            "100%|██████████| 15000/15000 [00:13<00:00, 1124.88it/s]\n"
          ]
        }
      ],
      "source": [
        "\n",
        "unlabelled_df=pd.read_csv(\"/content/unlabelled_train_data.csv\").sample(15000,random_state=42)\n",
        "\n",
        "unlabelled_df['feature'] = unlabelled_df.apply(lambda row: ' '.join([str(row[i]) for i in cols]), axis=1)\n",
        "cleaned_unlabelled_df = preprocess(unlabelled_df.copy())\n",
        "\n",
        "vect=vect.fit(cleaned_unlabelled_df['cleaned_feature'])\n",
        "X_unlabelled=vect.transform(cleaned_unlabelled_df['cleaned_feature'])\n",
        "X_unlabelled=X_unlabelled.toarray()"
      ]
    },
    {
      "cell_type": "markdown",
      "metadata": {
        "id": "CX2jeyyUxP95"
      },
      "source": [
        "#### b) Extracting features from labelled data"
      ]
    },
    {
      "cell_type": "code",
      "execution_count": 24,
      "metadata": {
        "execution": {
          "iopub.execute_input": "2022-03-02T08:39:42.293471Z",
          "iopub.status.busy": "2022-03-02T08:39:42.293217Z",
          "iopub.status.idle": "2022-03-02T08:39:42.358382Z",
          "shell.execute_reply": "2022-03-02T08:39:42.357342Z",
          "shell.execute_reply.started": "2022-03-02T08:39:42.293439Z"
        },
        "trusted": true,
        "id": "6Ns6uRr3xP95"
      },
      "outputs": [],
      "source": [
        "\n",
        "X_train_vect = vect.transform(cleaned_train_df['cleaned_feature'])\n",
        "y_train = cleaned_train_df['ctrl'].astype(int).tolist()\n",
        "\n",
        "X = vect.transform(cleaned_train_df['cleaned_feature']).toarray()\n",
        "Y = cleaned_train_df['ctrl'].astype(int).tolist()\n"
      ]
    },
    {
      "cell_type": "markdown",
      "metadata": {
        "id": "62SBhsIUxP96"
      },
      "source": [
        "### Spliting into training and testing data (labelled)"
      ]
    },
    {
      "cell_type": "code",
      "execution_count": 25,
      "metadata": {
        "execution": {
          "iopub.execute_input": "2022-03-02T08:39:42.360366Z",
          "iopub.status.busy": "2022-03-02T08:39:42.359944Z",
          "iopub.status.idle": "2022-03-02T08:39:42.393268Z",
          "shell.execute_reply": "2022-03-02T08:39:42.392476Z",
          "shell.execute_reply.started": "2022-03-02T08:39:42.360317Z"
        },
        "trusted": true,
        "id": "3Sxy32RBxP96"
      },
      "outputs": [],
      "source": [
        "from sklearn.model_selection import train_test_split\n",
        "\n",
        "X_train_vect,X_valid_vect,y_train,y_valid =train_test_split(X_train_vect,y_train,test_size=0.15,\\\n",
        "                                                            stratify=y_train,random_state=42)\n",
        "X_train_vect=X_train_vect.toarray()\n",
        "X_valid_vect=X_valid_vect.toarray()\n",
        "# X_train_vect"
      ]
    },
    {
      "cell_type": "code",
      "execution_count": 26,
      "metadata": {
        "execution": {
          "iopub.execute_input": "2022-03-02T08:39:42.394602Z",
          "iopub.status.busy": "2022-03-02T08:39:42.394389Z",
          "iopub.status.idle": "2022-03-02T08:39:42.400792Z",
          "shell.execute_reply": "2022-03-02T08:39:42.400006Z",
          "shell.execute_reply.started": "2022-03-02T08:39:42.394575Z"
        },
        "trusted": true,
        "colab": {
          "base_uri": "https://localhost:8080/"
        },
        "id": "8XI_X5YHxP97",
        "outputId": "7f1b08b8-19d3-41f9-a740-dad46c740bd4"
      },
      "outputs": [
        {
          "output_type": "execute_result",
          "data": {
            "text/plain": [
              "(529, 8507)"
            ]
          },
          "metadata": {},
          "execution_count": 26
        }
      ],
      "source": [
        "X_train_vect.shape"
      ]
    },
    {
      "cell_type": "markdown",
      "metadata": {
        "id": "jmVXMQhLxP98"
      },
      "source": [
        "# Weekly supervised learning (Data Curation)"
      ]
    },
    {
      "cell_type": "code",
      "execution_count": 27,
      "metadata": {
        "execution": {
          "iopub.execute_input": "2022-03-02T08:39:42.430900Z",
          "iopub.status.busy": "2022-03-02T08:39:42.430464Z",
          "iopub.status.idle": "2022-03-02T08:39:42.445440Z",
          "shell.execute_reply": "2022-03-02T08:39:42.444416Z",
          "shell.execute_reply.started": "2022-03-02T08:39:42.430850Z"
        },
        "trusted": true,
        "colab": {
          "base_uri": "https://localhost:8080/"
        },
        "id": "FHJOE2WCxP98",
        "outputId": "16815e67-a755-4bc9-cb3f-120e6b3bc62f"
      },
      "outputs": [
        {
          "output_type": "execute_result",
          "data": {
            "text/plain": [
              "(15000, 8507)"
            ]
          },
          "metadata": {},
          "execution_count": 27
        }
      ],
      "source": [
        "X_unlabelled.shape"
      ]
    },
    {
      "cell_type": "code",
      "execution_count": 29,
      "metadata": {
        "execution": {
          "iopub.execute_input": "2022-03-02T08:41:41.448327Z",
          "iopub.status.busy": "2022-03-02T08:41:41.448078Z",
          "iopub.status.idle": "2022-03-02T08:46:59.005775Z",
          "shell.execute_reply": "2022-03-02T08:46:59.005170Z",
          "shell.execute_reply.started": "2022-03-02T08:41:41.448298Z"
        },
        "trusted": true,
        "id": "lx128DrDxP9_"
      },
      "outputs": [],
      "source": [
        "\n",
        "from sklearn.linear_model import LogisticRegression,LinearRegression\n",
        "from sklearn.metrics import f1_score,roc_auc_score\n"
      ]
    },
    {
      "cell_type": "code",
      "execution_count": 30,
      "metadata": {
        "execution": {
          "iopub.execute_input": "2022-03-02T08:39:42.447468Z",
          "iopub.status.busy": "2022-03-02T08:39:42.446857Z",
          "iopub.status.idle": "2022-03-02T08:41:40.586592Z",
          "shell.execute_reply": "2022-03-02T08:41:40.585441Z",
          "shell.execute_reply.started": "2022-03-02T08:39:42.447432Z"
        },
        "trusted": true,
        "colab": {
          "base_uri": "https://localhost:8080/"
        },
        "id": "_9zFVTWtxP98",
        "outputId": "9e3d912d-4d4d-41eb-ea2b-6b35c3165b82"
      },
      "outputs": [
        {
          "output_type": "stream",
          "name": "stdout",
          "text": [
            "Classification report for ctrl (1 - ctrl, 0 - pert)\n",
            "\n",
            "              precision    recall  f1-score   support\n",
            "\n",
            "           0       0.95      0.88      0.91        48\n",
            "           1       0.88      0.96      0.92        46\n",
            "\n",
            "    accuracy                           0.91        94\n",
            "   macro avg       0.92      0.92      0.91        94\n",
            "weighted avg       0.92      0.91      0.91        94\n",
            "\n"
          ]
        }
      ],
      "source": [
        "model=LogisticRegression(max_iter=1000)\n",
        "model.fit(X_train_vect, y_train)\n",
        "print(\"Classification report for ctrl (1 - ctrl, 0 - pert)\\n\")\n",
        "y_predictions = model.predict(X_valid_vect)\n",
        "print(classification_report(y_valid, y_predictions))\n",
        "    "
      ]
    },
    {
      "cell_type": "code",
      "execution_count": 31,
      "metadata": {
        "execution": {
          "iopub.execute_input": "2022-03-02T08:41:40.603643Z",
          "iopub.status.busy": "2022-03-02T08:41:40.602849Z",
          "iopub.status.idle": "2022-03-02T08:41:40.613468Z",
          "shell.execute_reply": "2022-03-02T08:41:40.612367Z",
          "shell.execute_reply.started": "2022-03-02T08:41:40.603584Z"
        },
        "trusted": true,
        "colab": {
          "base_uri": "https://localhost:8080/"
        },
        "id": "sKlWfx0TxP99",
        "outputId": "6eba829d-82ee-4da7-f115-b12a9b6d19bc"
      },
      "outputs": [
        {
          "output_type": "execute_result",
          "data": {
            "text/plain": [
              "94"
            ]
          },
          "metadata": {},
          "execution_count": 31
        }
      ],
      "source": [
        "\n",
        "len(y_predictions)"
      ]
    },
    {
      "cell_type": "code",
      "execution_count": 32,
      "metadata": {
        "execution": {
          "iopub.execute_input": "2022-03-02T08:41:40.616648Z",
          "iopub.status.busy": "2022-03-02T08:41:40.615835Z",
          "iopub.status.idle": "2022-03-02T08:41:40.629926Z",
          "shell.execute_reply": "2022-03-02T08:41:40.628687Z",
          "shell.execute_reply.started": "2022-03-02T08:41:40.616588Z"
        },
        "trusted": true,
        "colab": {
          "base_uri": "https://localhost:8080/"
        },
        "id": "AEi34-lvxP99",
        "outputId": "818891a1-a8ea-46fd-ec57-4b07d4c5f7b5"
      },
      "outputs": [
        {
          "output_type": "execute_result",
          "data": {
            "text/plain": [
              "1    50\n",
              "0    44\n",
              "dtype: int64"
            ]
          },
          "metadata": {},
          "execution_count": 32
        }
      ],
      "source": [
        "pd.Series(y_predictions).value_counts()"
      ]
    },
    {
      "cell_type": "markdown",
      "metadata": {
        "id": "I_K22fpGxP9-"
      },
      "source": [
        "### Concatenating the labelled and unlabelled data after generating the labels \n",
        "#### So now we have around 15,000 datapoints to train the final classification model"
      ]
    },
    {
      "cell_type": "code",
      "execution_count": 33,
      "metadata": {
        "execution": {
          "iopub.execute_input": "2022-03-02T08:41:40.633445Z",
          "iopub.status.busy": "2022-03-02T08:41:40.632340Z",
          "iopub.status.idle": "2022-03-02T08:41:41.066050Z",
          "shell.execute_reply": "2022-03-02T08:41:41.065065Z",
          "shell.execute_reply.started": "2022-03-02T08:41:40.633386Z"
        },
        "trusted": true,
        "colab": {
          "base_uri": "https://localhost:8080/"
        },
        "id": "VQev1ZUtxP9-",
        "outputId": "8d11dcc9-24a5-4af9-c26a-ecebc9140825"
      },
      "outputs": [
        {
          "output_type": "stream",
          "name": "stdout",
          "text": [
            "X: (15623, 8507), Y: (717,)\n"
          ]
        }
      ],
      "source": [
        "X=np.concatenate([X,X_unlabelled],axis=0)\n",
        "Y=np.concatenate([Y,y_predictions],axis=0)\n",
        "\n",
        "print(f\"X: {X.shape}, Y: {Y.shape}\")"
      ]
    },
    {
      "cell_type": "code",
      "execution_count": 34,
      "metadata": {
        "execution": {
          "iopub.execute_input": "2022-03-02T08:41:41.067519Z",
          "iopub.status.busy": "2022-03-02T08:41:41.067296Z",
          "iopub.status.idle": "2022-03-02T08:41:41.440411Z",
          "shell.execute_reply": "2022-03-02T08:41:41.439524Z",
          "shell.execute_reply.started": "2022-03-02T08:41:41.067491Z"
        },
        "trusted": true,
        "colab": {
          "base_uri": "https://localhost:8080/",
          "height": 329
        },
        "id": "hIJ1hEtrxP9-",
        "outputId": "a975c721-667c-4ed9-a23a-e5576bd48de4"
      },
      "outputs": [
        {
          "output_type": "error",
          "ename": "ValueError",
          "evalue": "ignored",
          "traceback": [
            "\u001b[0;31m---------------------------------------------------------------------------\u001b[0m",
            "\u001b[0;31mValueError\u001b[0m                                Traceback (most recent call last)",
            "\u001b[0;32m<ipython-input-34-da8018c7986f>\u001b[0m in \u001b[0;36m<module>\u001b[0;34m()\u001b[0m\n\u001b[0;32m----> 1\u001b[0;31m \u001b[0mX_train_vect\u001b[0m\u001b[0;34m,\u001b[0m\u001b[0mX_valid_vect\u001b[0m\u001b[0;34m,\u001b[0m\u001b[0my_train\u001b[0m\u001b[0;34m,\u001b[0m\u001b[0my_valid\u001b[0m \u001b[0;34m=\u001b[0m\u001b[0mtrain_test_split\u001b[0m\u001b[0;34m(\u001b[0m\u001b[0mX\u001b[0m\u001b[0;34m,\u001b[0m\u001b[0mY\u001b[0m\u001b[0;34m,\u001b[0m\u001b[0mtest_size\u001b[0m\u001b[0;34m=\u001b[0m\u001b[0;36m0.20\u001b[0m\u001b[0;34m,\u001b[0m                                                            \u001b[0mstratify\u001b[0m\u001b[0;34m=\u001b[0m\u001b[0mY\u001b[0m\u001b[0;34m,\u001b[0m\u001b[0mrandom_state\u001b[0m\u001b[0;34m=\u001b[0m\u001b[0;36m42\u001b[0m\u001b[0;34m)\u001b[0m\u001b[0;34m\u001b[0m\u001b[0;34m\u001b[0m\u001b[0m\n\u001b[0m",
            "\u001b[0;32m/usr/local/lib/python3.7/dist-packages/sklearn/model_selection/_split.py\u001b[0m in \u001b[0;36mtrain_test_split\u001b[0;34m(test_size, train_size, random_state, shuffle, stratify, *arrays)\u001b[0m\n\u001b[1;32m   2415\u001b[0m         \u001b[0;32mraise\u001b[0m \u001b[0mValueError\u001b[0m\u001b[0;34m(\u001b[0m\u001b[0;34m\"At least one array required as input\"\u001b[0m\u001b[0;34m)\u001b[0m\u001b[0;34m\u001b[0m\u001b[0;34m\u001b[0m\u001b[0m\n\u001b[1;32m   2416\u001b[0m \u001b[0;34m\u001b[0m\u001b[0m\n\u001b[0;32m-> 2417\u001b[0;31m     \u001b[0marrays\u001b[0m \u001b[0;34m=\u001b[0m \u001b[0mindexable\u001b[0m\u001b[0;34m(\u001b[0m\u001b[0;34m*\u001b[0m\u001b[0marrays\u001b[0m\u001b[0;34m)\u001b[0m\u001b[0;34m\u001b[0m\u001b[0;34m\u001b[0m\u001b[0m\n\u001b[0m\u001b[1;32m   2418\u001b[0m \u001b[0;34m\u001b[0m\u001b[0m\n\u001b[1;32m   2419\u001b[0m     \u001b[0mn_samples\u001b[0m \u001b[0;34m=\u001b[0m \u001b[0m_num_samples\u001b[0m\u001b[0;34m(\u001b[0m\u001b[0marrays\u001b[0m\u001b[0;34m[\u001b[0m\u001b[0;36m0\u001b[0m\u001b[0;34m]\u001b[0m\u001b[0;34m)\u001b[0m\u001b[0;34m\u001b[0m\u001b[0;34m\u001b[0m\u001b[0m\n",
            "\u001b[0;32m/usr/local/lib/python3.7/dist-packages/sklearn/utils/validation.py\u001b[0m in \u001b[0;36mindexable\u001b[0;34m(*iterables)\u001b[0m\n\u001b[1;32m    376\u001b[0m \u001b[0;34m\u001b[0m\u001b[0m\n\u001b[1;32m    377\u001b[0m     \u001b[0mresult\u001b[0m \u001b[0;34m=\u001b[0m \u001b[0;34m[\u001b[0m\u001b[0m_make_indexable\u001b[0m\u001b[0;34m(\u001b[0m\u001b[0mX\u001b[0m\u001b[0;34m)\u001b[0m \u001b[0;32mfor\u001b[0m \u001b[0mX\u001b[0m \u001b[0;32min\u001b[0m \u001b[0miterables\u001b[0m\u001b[0;34m]\u001b[0m\u001b[0;34m\u001b[0m\u001b[0;34m\u001b[0m\u001b[0m\n\u001b[0;32m--> 378\u001b[0;31m     \u001b[0mcheck_consistent_length\u001b[0m\u001b[0;34m(\u001b[0m\u001b[0;34m*\u001b[0m\u001b[0mresult\u001b[0m\u001b[0;34m)\u001b[0m\u001b[0;34m\u001b[0m\u001b[0;34m\u001b[0m\u001b[0m\n\u001b[0m\u001b[1;32m    379\u001b[0m     \u001b[0;32mreturn\u001b[0m \u001b[0mresult\u001b[0m\u001b[0;34m\u001b[0m\u001b[0;34m\u001b[0m\u001b[0m\n\u001b[1;32m    380\u001b[0m \u001b[0;34m\u001b[0m\u001b[0m\n",
            "\u001b[0;32m/usr/local/lib/python3.7/dist-packages/sklearn/utils/validation.py\u001b[0m in \u001b[0;36mcheck_consistent_length\u001b[0;34m(*arrays)\u001b[0m\n\u001b[1;32m    332\u001b[0m         raise ValueError(\n\u001b[1;32m    333\u001b[0m             \u001b[0;34m\"Found input variables with inconsistent numbers of samples: %r\"\u001b[0m\u001b[0;34m\u001b[0m\u001b[0;34m\u001b[0m\u001b[0m\n\u001b[0;32m--> 334\u001b[0;31m             \u001b[0;34m%\u001b[0m \u001b[0;34m[\u001b[0m\u001b[0mint\u001b[0m\u001b[0;34m(\u001b[0m\u001b[0ml\u001b[0m\u001b[0;34m)\u001b[0m \u001b[0;32mfor\u001b[0m \u001b[0ml\u001b[0m \u001b[0;32min\u001b[0m \u001b[0mlengths\u001b[0m\u001b[0;34m]\u001b[0m\u001b[0;34m\u001b[0m\u001b[0;34m\u001b[0m\u001b[0m\n\u001b[0m\u001b[1;32m    335\u001b[0m         )\n\u001b[1;32m    336\u001b[0m \u001b[0;34m\u001b[0m\u001b[0m\n",
            "\u001b[0;31mValueError\u001b[0m: Found input variables with inconsistent numbers of samples: [15623, 717]"
          ]
        }
      ],
      "source": [
        "X_train_vect,X_valid_vect,y_train,y_valid =train_test_split(X,Y,test_size=0.20,\\\n",
        "                                                            stratify=Y,random_state=42)"
      ]
    },
    {
      "cell_type": "code",
      "execution_count": null,
      "metadata": {
        "execution": {
          "iopub.execute_input": "2022-03-02T08:41:41.442357Z",
          "iopub.status.busy": "2022-03-02T08:41:41.441778Z",
          "iopub.status.idle": "2022-03-02T08:41:41.446752Z",
          "shell.execute_reply": "2022-03-02T08:41:41.446147Z",
          "shell.execute_reply.started": "2022-03-02T08:41:41.442324Z"
        },
        "trusted": true,
        "id": "5Aq_xVZtxP9-",
        "outputId": "4a5ab7a6-2e43-41b9-bcb5-554a71754014"
      },
      "outputs": [
        {
          "data": {
            "text/plain": [
              "(12498, 9566)"
            ]
          },
          "execution_count": 193,
          "metadata": {},
          "output_type": "execute_result"
        }
      ],
      "source": [
        "X_train_vect.shape"
      ]
    },
    {
      "cell_type": "markdown",
      "metadata": {
        "id": "geDRCc-SxP9_"
      },
      "source": [
        "## Training the final classification model\n",
        "#### Experimentating with different types of models"
      ]
    },
    {
      "cell_type": "code",
      "execution_count": null,
      "metadata": {
        "execution": {
          "iopub.execute_input": "2022-03-02T08:46:59.007301Z",
          "iopub.status.busy": "2022-03-02T08:46:59.006908Z",
          "iopub.status.idle": "2022-03-02T08:47:12.851831Z",
          "shell.execute_reply": "2022-03-02T08:47:12.850687Z",
          "shell.execute_reply.started": "2022-03-02T08:46:59.007265Z"
        },
        "trusted": true,
        "id": "s25NHzN3xP9_",
        "outputId": "0be983a4-21b9-470c-dcd6-bc1ab21b8f1d"
      },
      "outputs": [
        {
          "name": "stdout",
          "output_type": "stream",
          "text": [
            "Classification report for ctrl (1 - ctrl, 0 - pert)\n",
            "\n",
            "              precision    recall  f1-score   support\n",
            "\n",
            "           0       0.98      1.00      0.99      2307\n",
            "           1       0.99      0.94      0.97       818\n",
            "\n",
            "    accuracy                           0.98      3125\n",
            "   macro avg       0.98      0.97      0.98      3125\n",
            "weighted avg       0.98      0.98      0.98      3125\n",
            "\n"
          ]
        }
      ],
      "source": [
        "model=LogisticRegression(max_iter=1000)\n",
        "\n",
        "model.fit(X_train_vect, y_train)\n",
        "print(\"Classification report for ctrl (1 - ctrl, 0 - pert)\\n\")\n",
        "y_predictions = model.predict(X_valid_vect)\n",
        "print(classification_report(y_valid, y_predictions))\n",
        "\n"
      ]
    },
    {
      "cell_type": "code",
      "execution_count": null,
      "metadata": {
        "execution": {
          "iopub.execute_input": "2022-03-02T08:47:12.853624Z",
          "iopub.status.busy": "2022-03-02T08:47:12.853184Z",
          "iopub.status.idle": "2022-03-02T08:47:17.022346Z",
          "shell.execute_reply": "2022-03-02T08:47:17.021387Z",
          "shell.execute_reply.started": "2022-03-02T08:47:12.853578Z"
        },
        "trusted": true,
        "id": "mjQhp5OvxP-A",
        "outputId": "6f15177c-1a9f-404f-d614-b7c3f9988435"
      },
      "outputs": [
        {
          "name": "stderr",
          "output_type": "stream",
          "text": [
            "100%|██████████| 6070/6070 [00:03<00:00, 1844.66it/s]\n"
          ]
        }
      ],
      "source": [
        "\n",
        "test_df = pd.read_csv('../input/mlrw-biomedicalhackathon/data_only_test.csv')\n",
        "\n",
        "test_df.loc[:, 'feature'] = \"\"\n",
        "test_df['feature'] = test_df.apply(lambda row: ' '.join([str(row[i]) for i in cols]), axis=1)\n",
        "\n",
        "cleaned_test_df = preprocess(test_df.copy())\n",
        "X_test_vect = final_vect.transform(cleaned_test_df['cleaned_feature'].tolist())\n",
        "X_test_vect=X_test_vect.toarray()"
      ]
    },
    {
      "cell_type": "code",
      "execution_count": null,
      "metadata": {
        "execution": {
          "iopub.execute_input": "2022-03-02T08:47:17.024463Z",
          "iopub.status.busy": "2022-03-02T08:47:17.023939Z",
          "iopub.status.idle": "2022-03-02T08:47:17.312959Z",
          "shell.execute_reply": "2022-03-02T08:47:17.311669Z",
          "shell.execute_reply.started": "2022-03-02T08:47:17.024425Z"
        },
        "trusted": true,
        "id": "n45Yd2tExP-A"
      },
      "outputs": [],
      "source": [
        "\n",
        "test_predictions = model.predict(X_test_vect)\n",
        "cleaned_test_df['ctrl'] = test_predictions\n",
        "\n",
        "cleaned_test_df = cleaned_test_df[['geo_accession', 'ctrl']]\n",
        "\n",
        "# make sure its a float!\n",
        "cleaned_test_df['ctrl'] = cleaned_test_df['ctrl'].astype(np.float64)\n",
        "\n",
        "cleaned_test_df.to_csv('submission.csv', index=False)"
      ]
    }
  ],
  "metadata": {
    "kernelspec": {
      "display_name": "Python 3",
      "language": "python",
      "name": "python3"
    },
    "language_info": {
      "codemirror_mode": {
        "name": "ipython",
        "version": 3
      },
      "file_extension": ".py",
      "mimetype": "text/x-python",
      "name": "python",
      "nbconvert_exporter": "python",
      "pygments_lexer": "ipython3",
      "version": "3.7.12"
    },
    "colab": {
      "name": "organized Code_MLRW.ipynb",
      "provenance": []
    }
  },
  "nbformat": 4,
  "nbformat_minor": 0
}