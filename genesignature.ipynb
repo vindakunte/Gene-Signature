{
 "cells": [
  {
   "cell_type": "code",
   "execution_count": 1,
   "id": "db20d3c8",
   "metadata": {},
   "outputs": [],
   "source": [
    "import pandas as pd\n",
    "import numpy as np"
   ]
  },
  {
   "cell_type": "code",
   "execution_count": 2,
   "id": "f06afc94",
   "metadata": {},
   "outputs": [],
   "source": [
    "from tqdm import tqdm\n",
    "import pickle\n",
    "import re\n"
   ]
  },
  {
   "cell_type": "code",
   "execution_count": 3,
   "id": "c0ed64ae",
   "metadata": {},
   "outputs": [
    {
     "name": "stderr",
     "output_type": "stream",
     "text": [
      "[nltk_data] Downloading package stopwords to\n",
      "[nltk_data]     /Users/meghanaasok/nltk_data...\n",
      "[nltk_data]   Package stopwords is already up-to-date!\n",
      "[nltk_data] Downloading package wordnet to\n",
      "[nltk_data]     /Users/meghanaasok/nltk_data...\n",
      "[nltk_data]   Package wordnet is already up-to-date!\n",
      "[nltk_data] Downloading package punkt to\n",
      "[nltk_data]     /Users/meghanaasok/nltk_data...\n",
      "[nltk_data]   Package punkt is already up-to-date!\n"
     ]
    }
   ],
   "source": [
    "import nltk\n",
    "nltk.download('stopwords')\n",
    "nltk.download('wordnet')\n",
    "nltk.download('punkt')\n",
    "from nltk.corpus import wordnet as wn\n",
    "from nltk.stem.wordnet import WordNetLemmatizer\n",
    "from nltk import word_tokenize, pos_tag\n",
    "from nltk.corpus import inaugural, stopwords\n",
    "\n"
   ]
  },
  {
   "cell_type": "code",
   "execution_count": 4,
   "id": "fe7d54e0",
   "metadata": {},
   "outputs": [],
   "source": [
    "from sklearn.feature_extraction.text import TfidfVectorizer\n",
    "from sklearn.linear_model import LogisticRegression\n",
    "from sklearn.metrics import classification_report"
   ]
  },
  {
   "cell_type": "code",
   "execution_count": 5,
   "id": "55f708a0",
   "metadata": {},
   "outputs": [],
   "source": [
    "label = pd.read_csv(r\"/Users/meghanaasok/Downloads/mlrw-biomedicalhackathon/labelled_train_data.csv\")"
   ]
  },
  {
   "cell_type": "code",
   "execution_count": 6,
   "id": "7ee77198",
   "metadata": {},
   "outputs": [
    {
     "data": {
      "text/plain": [
       "Index(['Unnamed: 0', 'geo_accession', 'gse_id', 'ctrl', 'pert',\n",
       "       'channel_count', 'characteristics_ch1', 'contact_address',\n",
       "       'contact_city', 'contact_country', 'contact_department',\n",
       "       'contact_email', 'contact_institute', 'contact_name', 'contact_state',\n",
       "       'data_processing', 'data_row_count', 'description',\n",
       "       'extract_protocol_ch1', 'growth_protocol_ch1', 'hyb_protocol',\n",
       "       'label_ch1', 'label_protocol_ch1', 'last_update_date', 'molecule_ch1',\n",
       "       'organism_ch1', 'platform_id', 'scan_protocol', 'source_name_ch1',\n",
       "       'status', 'submission_date', 'supplementary_file', 'taxid_ch1', 'title',\n",
       "       'treatment_protocol_ch1', 'type', 'contact_phone', 'contact_laboratory',\n",
       "       'relation', 'contact_fax', 'biomaterial_provider_ch1',\n",
       "       'contact_web_link', 'characteristics_ch2', 'extract_protocol_ch2',\n",
       "       'label_ch2', 'label_protocol_ch2', 'molecule_ch2', 'organism_ch2',\n",
       "       'source_name_ch2', 'taxid_ch2', 'treatment_protocol_ch2',\n",
       "       'biomaterial_provider_ch2', 'growth_protocol_ch2'],\n",
       "      dtype='object')"
      ]
     },
     "execution_count": 6,
     "metadata": {},
     "output_type": "execute_result"
    }
   ],
   "source": [
    "label.columns"
   ]
  },
  {
   "cell_type": "code",
   "execution_count": 7,
   "id": "6bf3e24c",
   "metadata": {},
   "outputs": [
    {
     "data": {
      "text/plain": [
       "Unnamed: 0                    0\n",
       "geo_accession                 0\n",
       "gse_id                        0\n",
       "ctrl                          0\n",
       "pert                          0\n",
       "channel_count                 0\n",
       "characteristics_ch1           0\n",
       "contact_address               0\n",
       "contact_city                  0\n",
       "contact_country               0\n",
       "contact_department          120\n",
       "contact_email               229\n",
       "contact_institute             0\n",
       "contact_name                  0\n",
       "contact_state               174\n",
       "data_processing               0\n",
       "data_row_count                0\n",
       "description                 147\n",
       "extract_protocol_ch1          0\n",
       "growth_protocol_ch1         341\n",
       "hyb_protocol                110\n",
       "label_ch1                   110\n",
       "label_protocol_ch1          110\n",
       "last_update_date              0\n",
       "molecule_ch1                  0\n",
       "organism_ch1                  0\n",
       "platform_id                   0\n",
       "scan_protocol               110\n",
       "source_name_ch1               0\n",
       "status                        0\n",
       "submission_date               0\n",
       "supplementary_file          110\n",
       "taxid_ch1                     0\n",
       "title                         0\n",
       "treatment_protocol_ch1      325\n",
       "type                          0\n",
       "contact_phone               463\n",
       "contact_laboratory          279\n",
       "relation                    486\n",
       "contact_fax                 608\n",
       "biomaterial_provider_ch1    609\n",
       "contact_web_link            614\n",
       "characteristics_ch2         597\n",
       "extract_protocol_ch2        597\n",
       "label_ch2                   597\n",
       "label_protocol_ch2          597\n",
       "molecule_ch2                597\n",
       "organism_ch2                597\n",
       "source_name_ch2             597\n",
       "taxid_ch2                   597\n",
       "treatment_protocol_ch2      608\n",
       "biomaterial_provider_ch2    619\n",
       "growth_protocol_ch2         614\n",
       "dtype: int64"
      ]
     },
     "execution_count": 7,
     "metadata": {},
     "output_type": "execute_result"
    }
   ],
   "source": [
    "label.isna().sum()"
   ]
  },
  {
   "cell_type": "code",
   "execution_count": 8,
   "id": "5ca3aa47",
   "metadata": {},
   "outputs": [],
   "source": [
    "label=label.drop(['contact_address','contact_department', 'contact_email',\n",
    "       'contact_institute', 'contact_name','last_update_date','contact_fax','submission_date',\n",
    "       'contact_phone', 'contact_laboratory','relation','contact_web_link','status','pert'],axis=1)"
   ]
  },
  {
   "cell_type": "code",
   "execution_count": 9,
   "id": "5b151d73",
   "metadata": {},
   "outputs": [
    {
     "data": {
      "text/plain": [
       "Unnamed: 0                    0\n",
       "geo_accession                 0\n",
       "gse_id                        0\n",
       "ctrl                          0\n",
       "channel_count                 0\n",
       "characteristics_ch1           0\n",
       "contact_city                  0\n",
       "contact_country               0\n",
       "contact_state               174\n",
       "data_processing               0\n",
       "data_row_count                0\n",
       "description                 147\n",
       "extract_protocol_ch1          0\n",
       "growth_protocol_ch1         341\n",
       "hyb_protocol                110\n",
       "label_ch1                   110\n",
       "label_protocol_ch1          110\n",
       "molecule_ch1                  0\n",
       "organism_ch1                  0\n",
       "platform_id                   0\n",
       "scan_protocol               110\n",
       "source_name_ch1               0\n",
       "supplementary_file          110\n",
       "taxid_ch1                     0\n",
       "title                         0\n",
       "treatment_protocol_ch1      325\n",
       "type                          0\n",
       "biomaterial_provider_ch1    609\n",
       "characteristics_ch2         597\n",
       "extract_protocol_ch2        597\n",
       "label_ch2                   597\n",
       "label_protocol_ch2          597\n",
       "molecule_ch2                597\n",
       "organism_ch2                597\n",
       "source_name_ch2             597\n",
       "taxid_ch2                   597\n",
       "treatment_protocol_ch2      608\n",
       "biomaterial_provider_ch2    619\n",
       "growth_protocol_ch2         614\n",
       "dtype: int64"
      ]
     },
     "execution_count": 9,
     "metadata": {},
     "output_type": "execute_result"
    }
   ],
   "source": [
    "label.isna().sum()"
   ]
  },
  {
   "cell_type": "code",
   "execution_count": 10,
   "id": "0f1244e6",
   "metadata": {},
   "outputs": [],
   "source": [
    "unlabel=pd.read_csv(r\"/Users/meghanaasok/Downloads/mlrw-biomedicalhackathon/unlabelled_train_data.csv\")"
   ]
  },
  {
   "cell_type": "code",
   "execution_count": 11,
   "id": "b9015bad",
   "metadata": {},
   "outputs": [],
   "source": [
    "unlabel=unlabel.drop(['contact_address','contact_department', 'contact_email',\n",
    "       'contact_institute', 'contact_name','last_update_date','contact_fax','submission_date',\n",
    "       'contact_phone', 'contact_laboratory','relation','contact_web_link','status'],axis=1)"
   ]
  },
  {
   "cell_type": "code",
   "execution_count": 12,
   "id": "d3117e70",
   "metadata": {},
   "outputs": [
    {
     "data": {
      "text/plain": [
       "Unnamed: 0                      0\n",
       "geo_accession                   0\n",
       "gse_id                          0\n",
       "channel_count                   0\n",
       "characteristics_ch1           136\n",
       "contact_city                   27\n",
       "contact_country                26\n",
       "contact_state                6463\n",
       "data_processing               153\n",
       "data_row_count                 31\n",
       "description                  5318\n",
       "extract_protocol_ch1          348\n",
       "growth_protocol_ch1          7520\n",
       "hyb_protocol                 6066\n",
       "label_ch1                    5870\n",
       "label_protocol_ch1           6066\n",
       "molecule_ch1                   10\n",
       "organism_ch1                    0\n",
       "platform_id                    22\n",
       "scan_protocol                6068\n",
       "source_name_ch1                 0\n",
       "supplementary_file           5736\n",
       "taxid_ch1                      15\n",
       "title                           0\n",
       "treatment_protocol_ch1       7600\n",
       "type                            0\n",
       "biomaterial_provider_ch1    18991\n",
       "characteristics_ch2         18255\n",
       "extract_protocol_ch2        18418\n",
       "label_ch2                   18255\n",
       "label_protocol_ch2          18414\n",
       "molecule_ch2                18255\n",
       "organism_ch2                18255\n",
       "source_name_ch2             18255\n",
       "taxid_ch2                   18255\n",
       "treatment_protocol_ch2      19092\n",
       "biomaterial_provider_ch2    19425\n",
       "growth_protocol_ch2         19116\n",
       "dtype: int64"
      ]
     },
     "execution_count": 12,
     "metadata": {},
     "output_type": "execute_result"
    }
   ],
   "source": [
    "unlabel.isna().sum()"
   ]
  },
  {
   "cell_type": "code",
   "execution_count": 13,
   "id": "c71a2c22",
   "metadata": {},
   "outputs": [
    {
     "data": {
      "text/plain": [
       "(19456, 38)"
      ]
     },
     "execution_count": 13,
     "metadata": {},
     "output_type": "execute_result"
    }
   ],
   "source": [
    "unlabel.shape"
   ]
  },
  {
   "cell_type": "code",
   "execution_count": 14,
   "id": "42b27130",
   "metadata": {},
   "outputs": [],
   "source": [
    "missing = label.isna().sum()/len(label)\n",
    "missing2 = unlabel.isna().sum()/len(unlabel)\n"
   ]
  },
  {
   "cell_type": "code",
   "execution_count": 15,
   "id": "91b461d6",
   "metadata": {},
   "outputs": [
    {
     "data": {
      "text/plain": [
       "Unnamed: 0                  0.000000\n",
       "geo_accession               0.000000\n",
       "gse_id                      0.000000\n",
       "ctrl                        0.000000\n",
       "channel_count               0.000000\n",
       "characteristics_ch1         0.000000\n",
       "contact_city                0.000000\n",
       "contact_country             0.000000\n",
       "contact_state               0.279294\n",
       "data_processing             0.000000\n",
       "data_row_count              0.000000\n",
       "description                 0.235955\n",
       "extract_protocol_ch1        0.000000\n",
       "growth_protocol_ch1         0.547352\n",
       "hyb_protocol                0.176565\n",
       "label_ch1                   0.176565\n",
       "label_protocol_ch1          0.176565\n",
       "molecule_ch1                0.000000\n",
       "organism_ch1                0.000000\n",
       "platform_id                 0.000000\n",
       "scan_protocol               0.176565\n",
       "source_name_ch1             0.000000\n",
       "supplementary_file          0.176565\n",
       "taxid_ch1                   0.000000\n",
       "title                       0.000000\n",
       "treatment_protocol_ch1      0.521669\n",
       "type                        0.000000\n",
       "biomaterial_provider_ch1    0.977528\n",
       "characteristics_ch2         0.958266\n",
       "extract_protocol_ch2        0.958266\n",
       "label_ch2                   0.958266\n",
       "label_protocol_ch2          0.958266\n",
       "molecule_ch2                0.958266\n",
       "organism_ch2                0.958266\n",
       "source_name_ch2             0.958266\n",
       "taxid_ch2                   0.958266\n",
       "treatment_protocol_ch2      0.975923\n",
       "biomaterial_provider_ch2    0.993579\n",
       "growth_protocol_ch2         0.985554\n",
       "dtype: float64"
      ]
     },
     "execution_count": 15,
     "metadata": {},
     "output_type": "execute_result"
    }
   ],
   "source": [
    "missing"
   ]
  },
  {
   "cell_type": "code",
   "execution_count": 16,
   "id": "532a660b",
   "metadata": {},
   "outputs": [
    {
     "data": {
      "text/plain": [
       "Unnamed: 0                  0.000000\n",
       "geo_accession               0.000000\n",
       "gse_id                      0.000000\n",
       "channel_count               0.000000\n",
       "characteristics_ch1         0.006990\n",
       "contact_city                0.001388\n",
       "contact_country             0.001336\n",
       "contact_state               0.332185\n",
       "data_processing             0.007864\n",
       "data_row_count              0.001593\n",
       "description                 0.273335\n",
       "extract_protocol_ch1        0.017887\n",
       "growth_protocol_ch1         0.386513\n",
       "hyb_protocol                0.311780\n",
       "label_ch1                   0.301706\n",
       "label_protocol_ch1          0.311780\n",
       "molecule_ch1                0.000514\n",
       "organism_ch1                0.000000\n",
       "platform_id                 0.001131\n",
       "scan_protocol               0.311883\n",
       "source_name_ch1             0.000000\n",
       "supplementary_file          0.294819\n",
       "taxid_ch1                   0.000771\n",
       "title                       0.000000\n",
       "treatment_protocol_ch1      0.390625\n",
       "type                        0.000000\n",
       "biomaterial_provider_ch1    0.976100\n",
       "characteristics_ch2         0.938271\n",
       "extract_protocol_ch2        0.946649\n",
       "label_ch2                   0.938271\n",
       "label_protocol_ch2          0.946443\n",
       "molecule_ch2                0.938271\n",
       "organism_ch2                0.938271\n",
       "source_name_ch2             0.938271\n",
       "taxid_ch2                   0.938271\n",
       "treatment_protocol_ch2      0.981291\n",
       "biomaterial_provider_ch2    0.998407\n",
       "growth_protocol_ch2         0.982525\n",
       "dtype: float64"
      ]
     },
     "execution_count": 16,
     "metadata": {},
     "output_type": "execute_result"
    }
   ],
   "source": [
    "missing2"
   ]
  },
  {
   "cell_type": "code",
   "execution_count": 17,
   "id": "e255d362",
   "metadata": {},
   "outputs": [],
   "source": [
    "label = label.loc[:, missing < 0.5]\n",
    "unlabel = unlabel.loc[:, missing2 < 0.5]"
   ]
  },
  {
   "cell_type": "code",
   "execution_count": 18,
   "id": "a3c36d5d",
   "metadata": {},
   "outputs": [
    {
     "data": {
      "text/plain": [
       "(623, 25)"
      ]
     },
     "execution_count": 18,
     "metadata": {},
     "output_type": "execute_result"
    }
   ],
   "source": [
    "label.shape"
   ]
  },
  {
   "cell_type": "code",
   "execution_count": 19,
   "id": "0b888469",
   "metadata": {},
   "outputs": [
    {
     "data": {
      "text/plain": [
       "(19456, 26)"
      ]
     },
     "execution_count": 19,
     "metadata": {},
     "output_type": "execute_result"
    }
   ],
   "source": [
    "unlabel.shape"
   ]
  },
  {
   "cell_type": "code",
   "execution_count": 20,
   "id": "c8b2ee38",
   "metadata": {},
   "outputs": [
    {
     "data": {
      "text/plain": [
       "Index(['Unnamed: 0', 'geo_accession', 'gse_id', 'ctrl', 'channel_count',\n",
       "       'characteristics_ch1', 'contact_city', 'contact_country',\n",
       "       'contact_state', 'data_processing', 'data_row_count', 'description',\n",
       "       'extract_protocol_ch1', 'hyb_protocol', 'label_ch1',\n",
       "       'label_protocol_ch1', 'molecule_ch1', 'organism_ch1', 'platform_id',\n",
       "       'scan_protocol', 'source_name_ch1', 'supplementary_file', 'taxid_ch1',\n",
       "       'title', 'type'],\n",
       "      dtype='object')"
      ]
     },
     "execution_count": 20,
     "metadata": {},
     "output_type": "execute_result"
    }
   ],
   "source": [
    "label.columns"
   ]
  },
  {
   "cell_type": "code",
   "execution_count": 21,
   "id": "1565830c",
   "metadata": {},
   "outputs": [
    {
     "data": {
      "text/plain": [
       "Index(['Unnamed: 0', 'geo_accession', 'gse_id', 'channel_count',\n",
       "       'characteristics_ch1', 'contact_city', 'contact_country',\n",
       "       'contact_state', 'data_processing', 'data_row_count', 'description',\n",
       "       'extract_protocol_ch1', 'growth_protocol_ch1', 'hyb_protocol',\n",
       "       'label_ch1', 'label_protocol_ch1', 'molecule_ch1', 'organism_ch1',\n",
       "       'platform_id', 'scan_protocol', 'source_name_ch1', 'supplementary_file',\n",
       "       'taxid_ch1', 'title', 'treatment_protocol_ch1', 'type'],\n",
       "      dtype='object')"
      ]
     },
     "execution_count": 21,
     "metadata": {},
     "output_type": "execute_result"
    }
   ],
   "source": [
    "unlabel.columns"
   ]
  },
  {
   "cell_type": "code",
   "execution_count": 22,
   "id": "9a2dfdf3",
   "metadata": {},
   "outputs": [],
   "source": [
    "unlabel=unlabel.drop(['growth_protocol_ch1','treatment_protocol_ch1'],axis=1)"
   ]
  },
  {
   "cell_type": "code",
   "execution_count": 23,
   "id": "fc7fbb14",
   "metadata": {},
   "outputs": [],
   "source": [
    "def preprocess(data_df):\n",
    "    data_df['cleaned_feature'] = ''\n",
    "    \n",
    "    # Initializing Stopwords and Lemmatization objects\n",
    "    stop_words = set(stopwords.words('english'))\n",
    "    wordnet_lemm = WordNetLemmatizer()\n",
    "    \n",
    "    # Pattern to detect characters which are not alphabets or numbers so they can removed\n",
    "    alpha_or_numeric = \"[^a-zA-Z0-9- ]\"\n",
    "\n",
    "    for index, row in tqdm(data_df.iterrows(), total=data_df.shape[0]):\n",
    "    \n",
    "        sample = row['feature']\n",
    "        pre_txt = re.sub(alpha_or_numeric, \" \", sample)\n",
    "        pre_txt = sample.lower()\n",
    "            \n",
    "        \n",
    "        # Removing stop words and lemmatizing different words in preprocessed text and making the final processed text\n",
    "        sample_words = [wordnet_lemm.lemmatize(w) for w in pre_txt.split() if w not in stop_words and len(w)>1]\n",
    "        pre_proc_ver = ' '.join(sample_words)\n",
    "        \n",
    "        data_df.loc[index, 'cleaned_feature'] = pre_proc_ver\n",
    "        \n",
    "    return data_df\n",
    "        "
   ]
  },
  {
   "cell_type": "code",
   "execution_count": 24,
   "id": "3aa76167",
   "metadata": {},
   "outputs": [],
   "source": [
    "cols = ['gse_id','contact_city','contact_country','contact_state','organism_ch1','platform_id','extract_protocol_ch1']"
   ]
  },
  {
   "cell_type": "code",
   "execution_count": 25,
   "id": "92846a37",
   "metadata": {},
   "outputs": [],
   "source": [
    "columns = ['gse_id','contact_city','contact_country','contact_state','organism_ch1','platform_id','extract_protocol_ch1','characteristics_ch1','data_processing','hyb_protocol','label_ch1\tlabel_protocol_ch1',\t'molecule_ch1',\t'scan_protocol',\t'source_name_ch1,','title'] # choose suitable set of columns according to your needs\n",
    "\n",
    "label.loc[:, 'feature'] = \"\"\n",
    "\n",
    "# We are concatenating all the columns with a space.\n",
    "label['feature'] = label.apply(lambda row: ' '.join([str(row[i]) for i in cols]), axis=1)"
   ]
  },
  {
   "cell_type": "code",
   "execution_count": 26,
   "id": "02d13bb5",
   "metadata": {},
   "outputs": [
    {
     "data": {
      "text/plain": [
       "0      GSE66250 Wuerzburg Germany nan Homo sapiens GP...\n",
       "1      GSE66250 Wuerzburg Germany nan Homo sapiens GP...\n",
       "2      GSE66250 Wuerzburg Germany nan Homo sapiens GP...\n",
       "3      GSE66250 Wuerzburg Germany nan Homo sapiens GP...\n",
       "4      GSE52505 Seoul South Korea nan Homo sapiens GP...\n",
       "                             ...                        \n",
       "618    GSE59980 Los Angeles USA CA Homo sapiens GPL11...\n",
       "619    GSE59980 Los Angeles USA CA Homo sapiens GPL11...\n",
       "620    GSE59980 Los Angeles USA CA Homo sapiens GPL11...\n",
       "621    GSE59980 Los Angeles USA CA Homo sapiens GPL11...\n",
       "622    GSE59980 Los Angeles USA CA Homo sapiens GPL11...\n",
       "Name: feature, Length: 623, dtype: object"
      ]
     },
     "execution_count": 26,
     "metadata": {},
     "output_type": "execute_result"
    }
   ],
   "source": [
    "label['feature']"
   ]
  },
  {
   "cell_type": "code",
   "execution_count": 27,
   "id": "fd867790",
   "metadata": {},
   "outputs": [
    {
     "name": "stderr",
     "output_type": "stream",
     "text": [
      "100%|████████████████████████████████████████| 623/623 [00:01<00:00, 603.71it/s]\n"
     ]
    }
   ],
   "source": [
    "clean_label=preprocess(label)"
   ]
  },
  {
   "cell_type": "code",
   "execution_count": 28,
   "id": "f33f90a2",
   "metadata": {},
   "outputs": [],
   "source": [
    "clean_label2=clean_label.copy()"
   ]
  },
  {
   "cell_type": "code",
   "execution_count": 29,
   "id": "c0687316",
   "metadata": {},
   "outputs": [],
   "source": [
    "clean_label2=clean_label2.drop(['ctrl'],axis=1)"
   ]
  },
  {
   "cell_type": "code",
   "execution_count": 30,
   "id": "10fb5dcf",
   "metadata": {},
   "outputs": [],
   "source": [
    "stop_words = set(stopwords.words('english'))\n",
    "vect = TfidfVectorizer(analyzer=\"word\", preprocessor=None, stop_words=stop_words, max_features=10000)\n",
    "\n",
    "\n",
    "X_train_vect = vect.fit_transform(clean_label2['cleaned_feature'])\n",
    "y_train1 = clean_label['ctrl'].astype(int).tolist()"
   ]
  },
  {
   "cell_type": "code",
   "execution_count": 31,
   "id": "5db10696",
   "metadata": {},
   "outputs": [
    {
     "data": {
      "text/plain": [
       "LogisticRegression(max_iter=1000)"
      ]
     },
     "execution_count": 31,
     "metadata": {},
     "output_type": "execute_result"
    }
   ],
   "source": [
    "logistic_reg = LogisticRegression(max_iter=1000)\n",
    "logistic_reg.fit(X_train_vect, y_train1)"
   ]
  },
  {
   "cell_type": "code",
   "execution_count": 33,
   "id": "b511926c",
   "metadata": {},
   "outputs": [
    {
     "name": "stdout",
     "output_type": "stream",
     "text": [
      "Classification report for ctrl (1 - ctrl, 0 - pert)\n",
      "\n",
      "              precision    recall  f1-score   support\n",
      "\n",
      "           0       0.66      0.74      0.70       319\n",
      "           1       0.69      0.61      0.64       304\n",
      "\n",
      "    accuracy                           0.67       623\n",
      "   macro avg       0.68      0.67      0.67       623\n",
      "weighted avg       0.68      0.67      0.67       623\n",
      "\n"
     ]
    }
   ],
   "source": [
    "print(\"Classification report for ctrl (1 - ctrl, 0 - pert)\\n\")\n",
    "y_predictions = logistic_reg.predict(X_train_vect)\n",
    "print(classification_report(y_train1, y_predictions))"
   ]
  },
  {
   "cell_type": "code",
   "execution_count": 34,
   "id": "187074c3",
   "metadata": {},
   "outputs": [],
   "source": [
    "unlabel.loc[:, 'feature'] = \"\"\n",
    "\n",
    "# We are concatenating all the columns with a space.\n",
    "unlabel['feature'] = unlabel.apply(lambda row: ' '.join([str(row[i]) for i in cols]), axis=1)"
   ]
  },
  {
   "cell_type": "code",
   "execution_count": 35,
   "id": "24c815d4",
   "metadata": {},
   "outputs": [
    {
     "name": "stderr",
     "output_type": "stream",
     "text": [
      "100%|███████████████████████████████████| 19456/19456 [00:08<00:00, 2389.87it/s]\n"
     ]
    }
   ],
   "source": [
    "clean_unlabel = preprocess(unlabel.copy())\n",
    "X_trainun_vect = vect.transform(clean_unlabel['cleaned_feature'].tolist())\n",
    "\n"
   ]
  },
  {
   "cell_type": "code",
   "execution_count": 36,
   "id": "64bd4c39",
   "metadata": {},
   "outputs": [
    {
     "data": {
      "text/plain": [
       "<19456x977 sparse matrix of type '<class 'numpy.float64'>'\n",
       "\twith 392289 stored elements in Compressed Sparse Row format>"
      ]
     },
     "execution_count": 36,
     "metadata": {},
     "output_type": "execute_result"
    }
   ],
   "source": [
    "X_trainun_vect"
   ]
  },
  {
   "cell_type": "code",
   "execution_count": 37,
   "id": "d4a7c73f",
   "metadata": {},
   "outputs": [
    {
     "data": {
      "text/plain": [
       "Index(['Unnamed: 0', 'geo_accession', 'gse_id', 'channel_count',\n",
       "       'characteristics_ch1', 'contact_city', 'contact_country',\n",
       "       'contact_state', 'data_processing', 'data_row_count', 'description',\n",
       "       'extract_protocol_ch1', 'hyb_protocol', 'label_ch1',\n",
       "       'label_protocol_ch1', 'molecule_ch1', 'organism_ch1', 'platform_id',\n",
       "       'scan_protocol', 'source_name_ch1', 'supplementary_file', 'taxid_ch1',\n",
       "       'title', 'type', 'feature', 'cleaned_feature'],\n",
       "      dtype='object')"
      ]
     },
     "execution_count": 37,
     "metadata": {},
     "output_type": "execute_result"
    }
   ],
   "source": [
    "clean_label2.columns"
   ]
  },
  {
   "cell_type": "code",
   "execution_count": 38,
   "id": "17b27742",
   "metadata": {},
   "outputs": [
    {
     "data": {
      "text/plain": [
       "(623, 26)"
      ]
     },
     "execution_count": 38,
     "metadata": {},
     "output_type": "execute_result"
    }
   ],
   "source": [
    "clean_label2.shape"
   ]
  },
  {
   "cell_type": "code",
   "execution_count": 39,
   "id": "e58663cc",
   "metadata": {},
   "outputs": [
    {
     "data": {
      "text/plain": [
       "Index(['Unnamed: 0', 'geo_accession', 'gse_id', 'channel_count',\n",
       "       'characteristics_ch1', 'contact_city', 'contact_country',\n",
       "       'contact_state', 'data_processing', 'data_row_count', 'description',\n",
       "       'extract_protocol_ch1', 'hyb_protocol', 'label_ch1',\n",
       "       'label_protocol_ch1', 'molecule_ch1', 'organism_ch1', 'platform_id',\n",
       "       'scan_protocol', 'source_name_ch1', 'supplementary_file', 'taxid_ch1',\n",
       "       'title', 'type', 'feature', 'cleaned_feature'],\n",
       "      dtype='object')"
      ]
     },
     "execution_count": 39,
     "metadata": {},
     "output_type": "execute_result"
    }
   ],
   "source": [
    "clean_unlabel.columns"
   ]
  },
  {
   "cell_type": "code",
   "execution_count": 40,
   "id": "ddf6b4ab",
   "metadata": {},
   "outputs": [
    {
     "data": {
      "text/plain": [
       "(19456, 26)"
      ]
     },
     "execution_count": 40,
     "metadata": {},
     "output_type": "execute_result"
    }
   ],
   "source": [
    "clean_unlabel.shape"
   ]
  },
  {
   "cell_type": "code",
   "execution_count": 41,
   "id": "b68e6fec",
   "metadata": {},
   "outputs": [],
   "source": [
    "y_predun=logistic_reg.predict(X_trainun_vect)"
   ]
  },
  {
   "cell_type": "code",
   "execution_count": 42,
   "id": "b42744cc",
   "metadata": {},
   "outputs": [
    {
     "data": {
      "text/plain": [
       "array([1, 1, 1, ..., 0, 0, 0])"
      ]
     },
     "execution_count": 42,
     "metadata": {},
     "output_type": "execute_result"
    }
   ],
   "source": [
    "y_predun"
   ]
  },
  {
   "cell_type": "code",
   "execution_count": 43,
   "id": "6405465c",
   "metadata": {},
   "outputs": [],
   "source": [
    "result = pd.DataFrame(y_predun, columns = ['ctrl'])"
   ]
  },
  {
   "cell_type": "code",
   "execution_count": 44,
   "id": "8606e31f",
   "metadata": {},
   "outputs": [
    {
     "data": {
      "text/plain": [
       "<bound method NDFrame.head of        ctrl\n",
       "0         1\n",
       "1         1\n",
       "2         1\n",
       "3         1\n",
       "4         1\n",
       "...     ...\n",
       "19451     0\n",
       "19452     0\n",
       "19453     0\n",
       "19454     0\n",
       "19455     0\n",
       "\n",
       "[19456 rows x 1 columns]>"
      ]
     },
     "execution_count": 44,
     "metadata": {},
     "output_type": "execute_result"
    }
   ],
   "source": [
    "result.head"
   ]
  },
  {
   "cell_type": "code",
   "execution_count": 45,
   "id": "518e6a3f",
   "metadata": {},
   "outputs": [],
   "source": [
    "X_train_temp=pd.concat([clean_unlabel,result],axis=1,join='inner')"
   ]
  },
  {
   "cell_type": "code",
   "execution_count": 46,
   "id": "e5a87da7",
   "metadata": {},
   "outputs": [],
   "source": [
    "X_train_final=pd.concat([clean_label,X_train_temp])"
   ]
  },
  {
   "cell_type": "code",
   "execution_count": 47,
   "id": "68f63bd8",
   "metadata": {},
   "outputs": [
    {
     "data": {
      "text/plain": [
       "(20079, 27)"
      ]
     },
     "execution_count": 47,
     "metadata": {},
     "output_type": "execute_result"
    }
   ],
   "source": [
    "X_train_final.shape"
   ]
  },
  {
   "cell_type": "code",
   "execution_count": 48,
   "id": "e89066e8",
   "metadata": {},
   "outputs": [
    {
     "data": {
      "text/plain": [
       "Index(['Unnamed: 0', 'geo_accession', 'gse_id', 'ctrl', 'channel_count',\n",
       "       'characteristics_ch1', 'contact_city', 'contact_country',\n",
       "       'contact_state', 'data_processing', 'data_row_count', 'description',\n",
       "       'extract_protocol_ch1', 'hyb_protocol', 'label_ch1',\n",
       "       'label_protocol_ch1', 'molecule_ch1', 'organism_ch1', 'platform_id',\n",
       "       'scan_protocol', 'source_name_ch1', 'supplementary_file', 'taxid_ch1',\n",
       "       'title', 'type', 'feature', 'cleaned_feature'],\n",
       "      dtype='object')"
      ]
     },
     "execution_count": 48,
     "metadata": {},
     "output_type": "execute_result"
    }
   ],
   "source": [
    "X_train_final.columns"
   ]
  },
  {
   "cell_type": "code",
   "execution_count": 49,
   "id": "2c14172d",
   "metadata": {},
   "outputs": [],
   "source": [
    "from sklearn.model_selection import train_test_split\n"
   ]
  },
  {
   "cell_type": "code",
   "execution_count": 50,
   "id": "31fa840a",
   "metadata": {},
   "outputs": [],
   "source": [
    "X=X_train_final.drop(['ctrl'],axis=1)\n",
    "y=X_train_final['ctrl']"
   ]
  },
  {
   "cell_type": "code",
   "execution_count": 51,
   "id": "7e5219d9",
   "metadata": {},
   "outputs": [],
   "source": [
    "X_train,X_val,y_train,y_val=train_test_split(X,y,test_size=0.2)"
   ]
  },
  {
   "cell_type": "code",
   "execution_count": 52,
   "id": "f3eaaefa",
   "metadata": {},
   "outputs": [],
   "source": [
    "X_train_vect_final = vect.transform(X_train['cleaned_feature'].tolist())\n",
    "X_val_vect=vect.transform(X_val['cleaned_feature'].tolist())"
   ]
  },
  {
   "cell_type": "code",
   "execution_count": 53,
   "id": "ffcf3c9b",
   "metadata": {},
   "outputs": [],
   "source": [
    "log_reg=LogisticRegression(max_iter=1000)"
   ]
  },
  {
   "cell_type": "code",
   "execution_count": 54,
   "id": "12fa3748",
   "metadata": {},
   "outputs": [
    {
     "data": {
      "text/plain": [
       "LogisticRegression(max_iter=1000)"
      ]
     },
     "execution_count": 54,
     "metadata": {},
     "output_type": "execute_result"
    }
   ],
   "source": [
    "log_reg.fit(X_train_vect_final,y_train)"
   ]
  },
  {
   "cell_type": "code",
   "execution_count": 55,
   "id": "9deb8756",
   "metadata": {},
   "outputs": [],
   "source": [
    "y_pred1=log_reg.predict(X_val_vect)"
   ]
  },
  {
   "cell_type": "code",
   "execution_count": 56,
   "id": "ec65bb3a",
   "metadata": {},
   "outputs": [
    {
     "name": "stdout",
     "output_type": "stream",
     "text": [
      "              precision    recall  f1-score   support\n",
      "\n",
      "         0.0       0.97      0.97      0.97      2497\n",
      "         1.0       0.96      0.95      0.96      1519\n",
      "\n",
      "    accuracy                           0.97      4016\n",
      "   macro avg       0.97      0.96      0.96      4016\n",
      "weighted avg       0.97      0.97      0.97      4016\n",
      "\n"
     ]
    }
   ],
   "source": [
    "print(classification_report(y_val, y_pred1))"
   ]
  },
  {
   "cell_type": "code",
   "execution_count": 57,
   "id": "45bbdc82",
   "metadata": {},
   "outputs": [
    {
     "name": "stderr",
     "output_type": "stream",
     "text": [
      "100%|█████████████████████████████████████| 6070/6070 [00:01<00:00, 3740.66it/s]\n"
     ]
    }
   ],
   "source": [
    "test = pd.read_csv(r'/Users/meghanaasok/Downloads/mlrw-biomedicalhackathon/data_only_test.csv')\n",
    "\n",
    "test.loc[:, 'feature'] = \"\"\n",
    "test['feature'] = test.apply(lambda row: ' '.join([str(row[i]) for i in cols]), axis=1)\n",
    "\n",
    "test.drop(columns = ['contact_address','contact_department', 'contact_email',\n",
    "       'contact_institute', 'contact_name','last_update_date','contact_fax','submission_date',\n",
    "       'contact_phone', 'contact_laboratory','relation','contact_web_link','status','supplementary_file'], inplace = True)\n",
    "\n",
    "cleaned_test_df = preprocess(test.copy())\n",
    "X_test_vect = vect.transform(cleaned_test_df['cleaned_feature'].tolist())\n",
    "\n",
    "test_predictions = log_reg.predict(X_test_vect)\n",
    "cleaned_test_df['ctrl'] = test_predictions\n",
    "\n",
    "cleaned_test_df = cleaned_test_df[['geo_accession', 'ctrl']]\n",
    "\n",
    "# make sure its a float!\n",
    "cleaned_test_df['ctrl'] = cleaned_test_df['ctrl'].astype(np.float64)\n",
    "\n",
    "cleaned_test_df.to_csv('submission.csv', index=False)"
   ]
  },
  {
   "cell_type": "code",
   "execution_count": null,
   "id": "4d51c93f",
   "metadata": {},
   "outputs": [],
   "source": []
  }
 ],
 "metadata": {
  "kernelspec": {
   "display_name": "Python 3 (ipykernel)",
   "language": "python",
   "name": "python3"
  },
  "language_info": {
   "codemirror_mode": {
    "name": "ipython",
    "version": 3
   },
   "file_extension": ".py",
   "mimetype": "text/x-python",
   "name": "python",
   "nbconvert_exporter": "python",
   "pygments_lexer": "ipython3",
   "version": "3.9.7"
  }
 },
 "nbformat": 4,
 "nbformat_minor": 5
}
